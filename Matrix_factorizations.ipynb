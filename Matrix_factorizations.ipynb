{
 "cells": [
  {
   "cell_type": "markdown",
   "id": "93831896-683d-4946-8cae-7aff56608a65",
   "metadata": {},
   "source": [
    "## ДЗ №2. Матричные факторизации"
   ]
  },
  {
   "cell_type": "markdown",
   "id": "03b424ec-3791-4113-a672-25ef7cfa704d",
   "metadata": {},
   "source": [
    "#### В этой домашке вам предстоит реализовать некоторые базовые модели матричной факторизации\n",
    "\n",
    "#### Дата выдачи: 17.02.25\n",
    "\n",
    "#### Мягкий дедлайн: 02.03.25 23:59 MSK\n",
    "\n",
    "#### Жесткий дедлайн: 09.03.25 23:59 MSK"
   ]
  },
  {
   "cell_type": "markdown",
   "id": "d8f4b315-75b8-4225-953c-5510c584ff2b",
   "metadata": {},
   "source": [
    "В этом задании мы будем работать с классическим для рекоендательных систем датасетом [MovieLens 1M](https://grouplens.org/datasets/movielens/1m/). Датасет содержит рейтинги оценки для 4000 фильмов от 6000 пользователей. Более подробное описание можете найти на странице с датасетом и в README файле"
   ]
  },
  {
   "cell_type": "code",
   "execution_count": 1,
   "id": "f5a85f84-4854-4249-963d-143d08bb7e36",
   "metadata": {},
   "outputs": [
    {
     "name": "stdout",
     "output_type": "stream",
     "text": [
      "--2025-03-02 12:56:46--  https://files.grouplens.org/datasets/movielens/ml-1m.zip\n",
      "Распознаётся files.grouplens.org (files.grouplens.org)… 128.101.65.152\n",
      "Подключение к files.grouplens.org (files.grouplens.org)|128.101.65.152|:443... соединение установлено.\n",
      "HTTP-запрос отправлен. Ожидание ответа… 200 OK\n",
      "Длина: 5917549 (5,6M) [application/zip]\n",
      "Сохранение в: «ml-1m.zip»\n",
      "\n",
      "ml-1m.zip           100%[===================>]   5,64M  1,71MB/s    за 3,3s    \n",
      "\n",
      "2025-03-02 12:56:50 (1,71 MB/s) - «ml-1m.zip» сохранён [5917549/5917549]\n",
      "\n",
      "Archive:  ml-1m.zip\n",
      "   creating: ml-1m/\n",
      "  inflating: ml-1m/movies.dat        \n",
      "  inflating: ml-1m/ratings.dat       \n",
      "  inflating: ml-1m/README            \n",
      "  inflating: ml-1m/users.dat         \n",
      "SUMMARY\n",
      "================================================================================\n",
      "\n",
      "These files contain 1,000,209 anonymous ratings of approximately 3,900 movies \n",
      "made by 6,040 MovieLens users who joined MovieLens in 2000.\n",
      "\n",
      "USAGE LICENSE\n",
      "================================================================================\n",
      "\n",
      "Neither the University of Minnesota nor any of the researchers\n",
      "involved can guarantee the correctness of the data, its suitability\n",
      "for any particular purpose, or the validity of results based on the\n",
      "use of the data set.  The data set may be used for any research\n",
      "purposes under the following conditions:\n",
      "\n",
      "     * The user may not state or imply any endorsement from the\n",
      "       University of Minnesota or the GroupLens Research Group.\n",
      "\n",
      "     * The user must acknowledge the use of the data set in\n",
      "       publications resulting from the use of the data set\n",
      "       (see below for citation information).\n",
      "\n",
      "     * The user may not redistribute the data without separate\n",
      "       permission.\n",
      "\n",
      "     * The user may not use this information for any commercial or\n",
      "       revenue-bearing purposes without first obtaining permission\n",
      "       from a faculty member of the GroupLens Research Project at the\n",
      "       University of Minnesota.\n",
      "\n",
      "If you have any further questions or comments, please contact GroupLens\n",
      "<grouplens-info@cs.umn.edu>. \n",
      "\n",
      "CITATION\n",
      "================================================================================\n",
      "\n",
      "To acknowledge use of the dataset in publications, please cite the following\n",
      "paper:\n",
      "\n",
      "F. Maxwell Harper and Joseph A. Konstan. 2015. The MovieLens Datasets: History\n",
      "and Context. ACM Transactions on Interactive Intelligent Systems (TiiS) 5, 4,\n",
      "Article 19 (December 2015), 19 pages. DOI=http://dx.doi.org/10.1145/2827872\n",
      "\n",
      "\n",
      "ACKNOWLEDGEMENTS\n",
      "================================================================================\n",
      "\n",
      "Thanks to Shyong Lam and Jon Herlocker for cleaning up and generating the data\n",
      "set.\n",
      "\n",
      "FURTHER INFORMATION ABOUT THE GROUPLENS RESEARCH PROJECT\n",
      "================================================================================\n",
      "\n",
      "The GroupLens Research Project is a research group in the Department of \n",
      "Computer Science and Engineering at the University of Minnesota. Members of \n",
      "the GroupLens Research Project are involved in many research projects related \n",
      "to the fields of information filtering, collaborative filtering, and \n",
      "recommender systems. The project is lead by professors John Riedl and Joseph \n",
      "Konstan. The project began to explore automated collaborative filtering in \n",
      "1992, but is most well known for its world wide trial of an automated \n",
      "collaborative filtering system for Usenet news in 1996. Since then the project \n",
      "has expanded its scope to research overall information filtering solutions, \n",
      "integrating in content-based methods as well as improving current collaborative \n",
      "filtering technology.\n",
      "\n",
      "Further information on the GroupLens Research project, including research \n",
      "publications, can be found at the following web site:\n",
      "        \n",
      "        http://www.grouplens.org/\n",
      "\n",
      "GroupLens Research currently operates a movie recommender based on \n",
      "collaborative filtering:\n",
      "\n",
      "        http://www.movielens.org/\n",
      "\n",
      "RATINGS FILE DESCRIPTION\n",
      "================================================================================\n",
      "\n",
      "All ratings are contained in the file \"ratings.dat\" and are in the\n",
      "following format:\n",
      "\n",
      "UserID::MovieID::Rating::Timestamp\n",
      "\n",
      "- UserIDs range between 1 and 6040 \n",
      "- MovieIDs range between 1 and 3952\n",
      "- Ratings are made on a 5-star scale (whole-star ratings only)\n",
      "- Timestamp is represented in seconds since the epoch as returned by time(2)\n",
      "- Each user has at least 20 ratings\n",
      "\n",
      "USERS FILE DESCRIPTION\n",
      "================================================================================\n",
      "\n",
      "User information is in the file \"users.dat\" and is in the following\n",
      "format:\n",
      "\n",
      "UserID::Gender::Age::Occupation::Zip-code\n",
      "\n",
      "All demographic information is provided voluntarily by the users and is\n",
      "not checked for accuracy.  Only users who have provided some demographic\n",
      "information are included in this data set.\n",
      "\n",
      "- Gender is denoted by a \"M\" for male and \"F\" for female\n",
      "- Age is chosen from the following ranges:\n",
      "\n",
      "\t*  1:  \"Under 18\"\n",
      "\t* 18:  \"18-24\"\n",
      "\t* 25:  \"25-34\"\n",
      "\t* 35:  \"35-44\"\n",
      "\t* 45:  \"45-49\"\n",
      "\t* 50:  \"50-55\"\n",
      "\t* 56:  \"56+\"\n",
      "\n",
      "- Occupation is chosen from the following choices:\n",
      "\n",
      "\t*  0:  \"other\" or not specified\n",
      "\t*  1:  \"academic/educator\"\n",
      "\t*  2:  \"artist\"\n",
      "\t*  3:  \"clerical/admin\"\n",
      "\t*  4:  \"college/grad student\"\n",
      "\t*  5:  \"customer service\"\n",
      "\t*  6:  \"doctor/health care\"\n",
      "\t*  7:  \"executive/managerial\"\n",
      "\t*  8:  \"farmer\"\n",
      "\t*  9:  \"homemaker\"\n",
      "\t* 10:  \"K-12 student\"\n",
      "\t* 11:  \"lawyer\"\n",
      "\t* 12:  \"programmer\"\n",
      "\t* 13:  \"retired\"\n",
      "\t* 14:  \"sales/marketing\"\n",
      "\t* 15:  \"scientist\"\n",
      "\t* 16:  \"self-employed\"\n",
      "\t* 17:  \"technician/engineer\"\n",
      "\t* 18:  \"tradesman/craftsman\"\n",
      "\t* 19:  \"unemployed\"\n",
      "\t* 20:  \"writer\"\n",
      "\n",
      "MOVIES FILE DESCRIPTION\n",
      "================================================================================\n",
      "\n",
      "Movie information is in the file \"movies.dat\" and is in the following\n",
      "format:\n",
      "\n",
      "MovieID::Title::Genres\n",
      "\n",
      "- Titles are identical to titles provided by the IMDB (including\n",
      "year of release)\n",
      "- Genres are pipe-separated and are selected from the following genres:\n",
      "\n",
      "\t* Action\n",
      "\t* Adventure\n",
      "\t* Animation\n",
      "\t* Children's\n",
      "\t* Comedy\n",
      "\t* Crime\n",
      "\t* Documentary\n",
      "\t* Drama\n",
      "\t* Fantasy\n",
      "\t* Film-Noir\n",
      "\t* Horror\n",
      "\t* Musical\n",
      "\t* Mystery\n",
      "\t* Romance\n",
      "\t* Sci-Fi\n",
      "\t* Thriller\n",
      "\t* War\n",
      "\t* Western\n",
      "\n",
      "- Some MovieIDs do not correspond to a movie due to accidental duplicate\n",
      "entries and/or test entries\n",
      "- Movies are mostly entered by hand, so errors and inconsistencies may exist\n"
     ]
    }
   ],
   "source": [
    "!wget https://files.grouplens.org/datasets/movielens/ml-1m.zip\n",
    "!unzip ml-1m.zip\n",
    "!cat ml-1m/README"
   ]
  },
  {
   "cell_type": "code",
   "execution_count": 2,
   "id": "669137ca-f0f9-48d4-ae04-e42a4b0f8d14",
   "metadata": {},
   "outputs": [],
   "source": [
    "import pandas as pd\n",
    "import numpy as np\n",
    "from typing import Union"
   ]
  },
  {
   "cell_type": "code",
   "execution_count": 3,
   "id": "ed65b0ae-ce2d-437a-9739-e7981011089f",
   "metadata": {},
   "outputs": [
    {
     "data": {
      "text/html": [
       "<div>\n",
       "<style scoped>\n",
       "    .dataframe tbody tr th:only-of-type {\n",
       "        vertical-align: middle;\n",
       "    }\n",
       "\n",
       "    .dataframe tbody tr th {\n",
       "        vertical-align: top;\n",
       "    }\n",
       "\n",
       "    .dataframe thead th {\n",
       "        text-align: right;\n",
       "    }\n",
       "</style>\n",
       "<table border=\"1\" class=\"dataframe\">\n",
       "  <thead>\n",
       "    <tr style=\"text-align: right;\">\n",
       "      <th></th>\n",
       "      <th>user_id</th>\n",
       "      <th>item_id</th>\n",
       "      <th>rating</th>\n",
       "      <th>datetime</th>\n",
       "    </tr>\n",
       "  </thead>\n",
       "  <tbody>\n",
       "    <tr>\n",
       "      <th>0</th>\n",
       "      <td>1</td>\n",
       "      <td>1193</td>\n",
       "      <td>5</td>\n",
       "      <td>2000-12-31 22:12:40</td>\n",
       "    </tr>\n",
       "    <tr>\n",
       "      <th>1</th>\n",
       "      <td>1</td>\n",
       "      <td>661</td>\n",
       "      <td>3</td>\n",
       "      <td>2000-12-31 22:35:09</td>\n",
       "    </tr>\n",
       "    <tr>\n",
       "      <th>2</th>\n",
       "      <td>1</td>\n",
       "      <td>914</td>\n",
       "      <td>3</td>\n",
       "      <td>2000-12-31 22:32:48</td>\n",
       "    </tr>\n",
       "    <tr>\n",
       "      <th>3</th>\n",
       "      <td>1</td>\n",
       "      <td>3408</td>\n",
       "      <td>4</td>\n",
       "      <td>2000-12-31 22:04:35</td>\n",
       "    </tr>\n",
       "    <tr>\n",
       "      <th>4</th>\n",
       "      <td>1</td>\n",
       "      <td>2355</td>\n",
       "      <td>5</td>\n",
       "      <td>2001-01-06 23:38:11</td>\n",
       "    </tr>\n",
       "  </tbody>\n",
       "</table>\n",
       "</div>"
      ],
      "text/plain": [
       "   user_id  item_id  rating            datetime\n",
       "0        1     1193       5 2000-12-31 22:12:40\n",
       "1        1      661       3 2000-12-31 22:35:09\n",
       "2        1      914       3 2000-12-31 22:32:48\n",
       "3        1     3408       4 2000-12-31 22:04:35\n",
       "4        1     2355       5 2001-01-06 23:38:11"
      ]
     },
     "execution_count": 3,
     "metadata": {},
     "output_type": "execute_result"
    }
   ],
   "source": [
    "df = pd.read_csv(\"ml-1m/ratings.dat\", sep='::', names=['user_id', 'item_id', 'rating', 'timestamp'], engine='python')\n",
    "df['datetime'] = pd.to_datetime(df['timestamp'], unit='s')\n",
    "df.drop('timestamp', axis=1, inplace=True)\n",
    "df.head()"
   ]
  },
  {
   "cell_type": "code",
   "execution_count": 5,
   "id": "4988d476-542e-4a32-9c45-7a16bc2a5db5",
   "metadata": {},
   "outputs": [],
   "source": [
    "value_counts = df['item_id'].value_counts()\n",
    "filtered_values = value_counts[value_counts > 20].index\n",
    "df = df[df['item_id'].isin(filtered_values)].copy()"
   ]
  },
  {
   "cell_type": "code",
   "execution_count": 6,
   "id": "1e05bd3b-ab2f-4c02-9a97-a4153e9550bc",
   "metadata": {},
   "outputs": [
    {
     "data": {
      "text/plain": [
       "((787420, 4), (207432, 4))"
      ]
     },
     "execution_count": 6,
     "metadata": {},
     "output_type": "execute_result"
    }
   ],
   "source": [
    "train_end = '2000-12-01'\n",
    "df_train = df[df['datetime'] < train_end].copy()\n",
    "df_test = df[df['datetime'] >= train_end].copy()\n",
    "df_train.shape, df_test.shape"
   ]
  },
  {
   "cell_type": "code",
   "execution_count": 7,
   "id": "414b8ed7-20d6-4778-9d60-f9c8ccbfa7e3",
   "metadata": {},
   "outputs": [
    {
     "data": {
      "text/plain": [
       "(106471, 4)"
      ]
     },
     "execution_count": 7,
     "metadata": {},
     "output_type": "execute_result"
    }
   ],
   "source": [
    "train_users = df_train['user_id'].unique()\n",
    "train_items = df_train['item_id'].unique()\n",
    "\n",
    "df_test = df_test[df_test['user_id'].isin(train_users)]\n",
    "df_test = df_test[df_test['item_id'].isin(train_items)]\n",
    "df_test.shape"
   ]
  },
  {
   "cell_type": "code",
   "execution_count": 8,
   "id": "19f53d61-990c-4626-a470-7eefd06d2ec7",
   "metadata": {},
   "outputs": [],
   "source": [
    "from sklearn.preprocessing import LabelEncoder\n",
    "\n",
    "user_le = LabelEncoder()\n",
    "item_le = LabelEncoder()\n",
    "\n",
    "df_train['user_id'] = user_le.fit_transform(df_train['user_id'])\n",
    "df_train['item_id'] = item_le.fit_transform(df_train['item_id'])\n",
    "\n",
    "df_test['user_id'] = user_le.transform(df_test['user_id'])\n",
    "df_test['item_id'] = item_le.transform(df_test['item_id'])"
   ]
  },
  {
   "cell_type": "code",
   "execution_count": 9,
   "id": "f4ef3e2f-792d-4511-b4d0-74495d9cb30b",
   "metadata": {},
   "outputs": [
    {
     "data": {
      "text/plain": [
       "(3010, 3009)"
      ]
     },
     "execution_count": 9,
     "metadata": {},
     "output_type": "execute_result"
    }
   ],
   "source": [
    "df_train['user_id'].nunique(), df_train['user_id'].max()\n",
    "df_train['item_id'].nunique(), df_train['item_id'].max()"
   ]
  },
  {
   "cell_type": "markdown",
   "id": "3d356df8-9157-4752-b30d-dc80aba5e53c",
   "metadata": {},
   "source": [
    "##### Задание 1. Напишем функцию, которая превратит датафрейм в матрицу интеракций. В функции df_to_matrix реализуйте функцию, которая принимает датафрейм и возвращает np.array матрицу интеракций. В функции df_to_coo реализуйте функцию, которая принимает датафрейм и возвращает разреженную матрицу интеракций в coo_array формате"
   ]
  },
  {
   "cell_type": "code",
   "execution_count": 17,
   "id": "d38a7bb7-7f2d-4957-8dac-6397af9b1645",
   "metadata": {},
   "outputs": [],
   "source": [
    "def df_to_matrix(df: pd.DataFrame) -> np.ndarray:\n",
    "    result = np.zeros((df['user_id'].nunique(), df['item_id'].nunique()))\n",
    "    result[df['user_id'], df['item_id']] = df['rating']\n",
    "    return result #shape ~ [n_users, n_items]"
   ]
  },
  {
   "cell_type": "code",
   "execution_count": 18,
   "id": "55362cbb-5e2d-455b-afd1-8507f1dd51ba",
   "metadata": {},
   "outputs": [],
   "source": [
    "interactions = df_to_matrix(df_train)"
   ]
  },
  {
   "cell_type": "code",
   "execution_count": 37,
   "id": "794b646d-a560-42dd-a466-87cad2589271",
   "metadata": {},
   "outputs": [],
   "source": [
    "from scipy.sparse import coo_array\n",
    "\n",
    "def df_to_coo(df: pd.DataFrame) -> coo_array:\n",
    "\n",
    "    result = coo_array((df['rating'], (df['user_id'], df['item_id'])), \n",
    "                       shape=(df['user_id'].nunique(), df['item_id'].nunique()), dtype=np.float64).tocsr()\n",
    "\n",
    "    return result # coo_array"
   ]
  },
  {
   "cell_type": "code",
   "execution_count": 38,
   "id": "30f9c218-0419-41b2-a112-c2214fad1d99",
   "metadata": {},
   "outputs": [],
   "source": [
    "coo_interactions = df_to_coo(df_train)"
   ]
  },
  {
   "cell_type": "code",
   "execution_count": 39,
   "id": "96b57a7a-0551-4f75-8047-fb9904ac93df",
   "metadata": {},
   "outputs": [],
   "source": [
    "assert (interactions != 0).sum() == df_train.shape[0]\n",
    "assert interactions[0, 2994] == 3\n",
    "assert interactions[2369, 1203] == 5\n",
    "assert interactions[1557, 459] == 3\n",
    "assert np.allclose(coo_interactions.toarray(), interactions)"
   ]
  },
  {
   "cell_type": "markdown",
   "id": "93b3862a-e62a-4ebe-a70c-29102e9f99fd",
   "metadata": {},
   "source": [
    "##### Задание 2.1. Рассмотрим [SVD](https://en.wikipedia.org/wiki/Singular_value_decomposition). Возьмите готовую реализуцию алгоритма из numpy.linalg или из scipy.linalg и примените алгоритм к матрицам интеракций, полученным в первом задании. Для работы со sparse матрицей обычная реализация svd не подойдет и нужно будет воспользоваться scipy.sparse.linalg.svds. Вам нужно разложить матрицу интеракций на 3 матрицы U, S, V, а затем перемножить их и восстановить изначальную матрицу. При полном разложении исходная матрица должна восстанавливаться максимально хорошо"
   ]
  },
  {
   "cell_type": "code",
   "execution_count": 28,
   "id": "eead134a-9aac-4027-b0b8-592de614c3d0",
   "metadata": {},
   "outputs": [],
   "source": [
    "from scipy.sparse.linalg import svds\n",
    "\n",
    "def make_svd(interactions: Union[np.ndarray, coo_array], n_singular_values: int = -1):\n",
    "    # функция должна работать и для полной матрицы и для sparse матрицы(вам поможет isinstance).\n",
    "    # если n_singular_values = -1, то берем все сингулярные числа для полной матрицы\n",
    "    # и все кроме одного сингулярного числа для coo-матрицы(иначе scipy.sparse.linalg.svds не будет работать)\n",
    "\n",
    "\n",
    "    if isinstance(interactions, np.ndarray):\n",
    "        U, s, V = np.linalg.svd(interactions, full_matrices=False)\n",
    "        if n_singular_values != -1:\n",
    "            U = U[:, :n_singular_values]\n",
    "            s = s[:n_singular_values]\n",
    "            V = V[:n_singular_values, :]\n",
    "    else:\n",
    "        if n_singular_values == -1:\n",
    "            n_singular_values = min(interactions.shape) - 1\n",
    "        U, s, V = svds(interactions, n_singular_values)\n",
    "    \n",
    "    return U, np.diag(s), V"
   ]
  },
  {
   "cell_type": "code",
   "execution_count": 29,
   "id": "5c5fecd4-4739-4f6b-9c9c-44bde8b66a34",
   "metadata": {},
   "outputs": [],
   "source": [
    "U, S, V = make_svd(interactions)\n",
    "assert np.allclose(U @ S @ V, interactions)"
   ]
  },
  {
   "cell_type": "code",
   "execution_count": 40,
   "id": "c5a5f59e-3832-4a7d-95b4-856531582bbd",
   "metadata": {},
   "outputs": [],
   "source": [
    "U1, S1, V1 = make_svd(interactions, 10)\n",
    "U, S, V = make_svd(coo_interactions, 10)\n",
    "assert np.allclose(U1 @ S1 @ V1, U @ S @ V)"
   ]
  },
  {
   "cell_type": "markdown",
   "id": "9443daa6-e9f1-414a-8107-5a3016452929",
   "metadata": {},
   "source": [
    "##### Задание 2.2. Теперь попробуем сделать рекомендации с помощью SVD. Мы научились восстанавливать исходную матрицу с помощью разложения, теперь же мы хотим порекомендовать пользователю айтемы, которые будут для него максимально релевантны(в восстановленной матрице у них будет самый высокий скор). Для каждого пользователя нужно будет найти индексы айтемов, которые имеют максимальный скор. При этом стоит обратить внимание, что мы не хотим рекомендовать пользователю айтемы, с которыми он уже взаимодействовал"
   ]
  },
  {
   "cell_type": "code",
   "execution_count": 306,
   "id": "787da18f-48d0-4dfa-b18f-b7e97cc98a4f",
   "metadata": {},
   "outputs": [],
   "source": [
    "def make_svd_recommendations(interactions: Union[np.ndarray, coo_array], n_singular_values: int = -1, top_k: int = 100):\n",
    "    # Возвращает матрицу вида n_users, top_k, то есть для каждого пользователя возвращаем индексы \n",
    "    # top_k самых релевантный айтемов среди тех с которыми он еще не взаимодействовал\n",
    "\n",
    "    U, S, V = make_svd(interactions, n_singular_values)\n",
    "    preds_matrix = U @ S @ V\n",
    "\n",
    "    mask = np.zeros(interactions.shape)\n",
    "    if isinstance(interactions, np.ndarray):\n",
    "        mask[interactions == 0] = 1\n",
    "    else:\n",
    "        mask[interactions.toarray() == 0] = 1\n",
    "\n",
    "    preds_matrix *= mask\n",
    "\n",
    "    recommendations = np.flip(preds_matrix.argsort(axis=1), 1)\n",
    "\n",
    "    return recommendations[:, :top_k] #shape ~ [n_users, top_k]"
   ]
  },
  {
   "cell_type": "code",
   "execution_count": 105,
   "id": "ec72f3dd-c8f2-4434-b84e-ef016c4773a1",
   "metadata": {},
   "outputs": [],
   "source": [
    "recs = make_svd_recommendations(interactions, -1, 100)\n",
    "assert recs.shape == (interactions.shape[0], 100)"
   ]
  },
  {
   "cell_type": "markdown",
   "id": "f5d0b788-855a-4fd9-8cbb-38c0dd289ef5",
   "metadata": {},
   "source": [
    "##### Задание 2.3. Теперь давайте посмотрим как будет зависеть качетво рекомендаций, от количества сингулярных чисел, которые мы возьмем в SVD разложении. Переберите n_singular_values из списка [1, 10, 50, 200, 1000] и посмотрите как будет изменяться метрика NDCG на тестовом датасете для таких рекомендаций и как будет меняться время вычисления. Для каждого графики зависимости метрики NDCG от n_singular_values и времени работы алгоритма от n_singular_values(Время работы будет меняться только для sparse-матрицы, стоит запускать алгоритм именно для нее)"
   ]
  },
  {
   "cell_type": "code",
   "execution_count": 101,
   "id": "06f931fd-0eb0-4965-9e02-e005ed545c71",
   "metadata": {},
   "outputs": [],
   "source": [
    "import time\n",
    "from matplotlib import pyplot as plt\n",
    "\n",
    "def ndcg_metric(gt_items, predicted):\n",
    "    at = len(predicted)\n",
    "    relevance = np.array([1 if x in predicted else 0 for x in gt_items])\n",
    "    # DCG uses the relevance of the recommended items\n",
    "    rank_dcg = dcg(relevance)\n",
    "\n",
    "    if rank_dcg == 0.0:\n",
    "        return 0.0\n",
    "\n",
    "    # IDCG has all relevances to 1 (or the values provided), up to the number of items in the test set that can fit in the list length\n",
    "    ideal_dcg = dcg(np.sort(relevance)[::-1][:at])\n",
    "\n",
    "    if ideal_dcg == 0.0:\n",
    "        return 0.0\n",
    "\n",
    "    ndcg_ = rank_dcg / ideal_dcg\n",
    "\n",
    "    return ndcg_\n",
    "\n",
    "\n",
    "def dcg(scores):\n",
    "    return np.sum(\n",
    "        np.divide(np.power(2, scores) - 1, np.log2(np.arange(scores.shape[0], dtype=np.float64) + 2)), dtype=np.float64\n",
    "    )\n",
    "\n",
    "def evaluate_recommender(df, model_preds, gt_col=\"test_interactions\", topn=10):\n",
    "    metric_values = []\n",
    "\n",
    "    for idx, row in df.iterrows():\n",
    "        gt_items = row[gt_col]\n",
    "        metric_values.append(ndcg_metric(gt_items, row[model_preds]))\n",
    "\n",
    "    return {\"ndcg\": np.mean([x for x in metric_values])}\n",
    "\n",
    "\n",
    "def plot_graphs(interactions: Union[np.ndarray, coo_array], top_k: int = 100):\n",
    "    df_interactions = df_test.groupby('user_id').apply(lambda x: [t for t in x.item_id]).reset_index().rename({0:'test_interactions'}, axis=1) \n",
    "    ndcg_s = []\n",
    "    times = []\n",
    "    for n_singular_values in [1, 10, 50, 200, 1000]:\n",
    "        start = time.time()\n",
    "        recs = make_svd_recommendations(interactions, n_singular_values, top_k)\n",
    "        times.append(time.time() - start)\n",
    "        df_interactions['SVD_preds'] = recs[df_interactions['user_id'], :].tolist()\n",
    "        metric_results = evaluate_recommender(df_interactions, 'SVD_preds')\n",
    "        ndcg_s.append(metric_results[\"ndcg\"])\n",
    "    plt.plot([1, 10, 50, 200, 1000], ndcg_s)\n",
    "    plt.xlabel(\"n_singular_values\")\n",
    "    plt.ylabel(\"ndcg value\")\n",
    "    plt.show()\n",
    "\n",
    "    plt.plot([1, 10, 50, 200, 1000], times)\n",
    "    plt.xlabel(\"n_singular_values\")\n",
    "    plt.ylabel(\"time (seconds) to get recommendations\")\n",
    "    plt.show()"
   ]
  },
  {
   "cell_type": "code",
   "execution_count": 98,
   "id": "fbba4882",
   "metadata": {},
   "outputs": [
    {
     "data": {
      "text/plain": [
       "5365"
      ]
     },
     "execution_count": 98,
     "metadata": {},
     "output_type": "execute_result"
    }
   ],
   "source": [
    "len(recs.tolist())"
   ]
  },
  {
   "cell_type": "code",
   "execution_count": 102,
   "id": "e894607d",
   "metadata": {},
   "outputs": [
    {
     "name": "stderr",
     "output_type": "stream",
     "text": [
      "/var/folders/5q/dr1_wwq51175s4qj4dnxgsz80000gn/T/ipykernel_41611/1013036364.py:40: DeprecationWarning: DataFrameGroupBy.apply operated on the grouping columns. This behavior is deprecated, and in a future version of pandas the grouping columns will be excluded from the operation. Either pass `include_groups=False` to exclude the groupings or explicitly select the grouping columns after groupby to silence this warning.\n",
      "  df_interactions = df_test.groupby('user_id').apply(lambda x: [t for t in x.item_id]).reset_index().rename({0:'test_interactions'}, axis=1)\n"
     ]
    },
    {
     "data": {
      "image/png": "[encoded data removed]",
      "text/plain": [
       "<Figure size 640x480 with 1 Axes>"
      ]
     },
     "metadata": {},
     "output_type": "display_data"
    },
    {
     "data": {
      "image/png": "[encoded data removed]",
      "text/plain": [
       "<Figure size 640x480 with 1 Axes>"
      ]
     },
     "metadata": {},
     "output_type": "display_data"
    }
   ],
   "source": [
    "plot_graphs(coo_interactions)"
   ]
  },
  {
   "cell_type": "markdown",
   "id": "a8612d96-c694-42d6-9525-58808f642577",
   "metadata": {},
   "source": [
    "##### Задание 3.1. Перейдем к [ALS](http://yifanhu.net/PUB/cf.pdf). Возьмем реализацию iALS из библиотеки [implicit](https://benfred.github.io/implicit/api/models/cpu/als.html). Обучите ALS на нашем датасете, сделайте top_k рекомендации для юзеров из тестового датасета, и сравните метрики ALS с метриками, которые получились в SVD. Попробуйте перебрать гиперпараметры и найдите оптимальное число факторов, коэффициент alpha и коэффициент регуляризации."
   ]
  },
  {
   "cell_type": "code",
   "execution_count": 108,
   "id": "a9be3c50",
   "metadata": {},
   "outputs": [
    {
     "name": "stderr",
     "output_type": "stream",
     "text": [
      "/var/folders/5q/dr1_wwq51175s4qj4dnxgsz80000gn/T/ipykernel_41611/483112249.py:1: DeprecationWarning: DataFrameGroupBy.apply operated on the grouping columns. This behavior is deprecated, and in a future version of pandas the grouping columns will be excluded from the operation. Either pass `include_groups=False` to exclude the groupings or explicitly select the grouping columns after groupby to silence this warning.\n",
      "  df_interactions = df_test.groupby('user_id').apply(lambda x: [t for t in x.item_id]).reset_index().rename({0:'test_interactions'}, axis=1)\n"
     ]
    }
   ],
   "source": [
    "df_interactions = df_test.groupby('user_id').apply(lambda x: [t for t in x.item_id]).reset_index().rename({0:'test_interactions'}, axis=1)"
   ]
  },
  {
   "cell_type": "code",
   "execution_count": 112,
   "id": "b5fb16e9-49d1-4d7e-a384-ccbdad4f1cdf",
   "metadata": {},
   "outputs": [],
   "source": [
    "from implicit.cpu.als import AlternatingLeastSquares\n",
    "from scipy.sparse import csr_matrix\n",
    "\n",
    "def make_als_recommendations(\n",
    "    interactions: Union[np.ndarray, coo_array], \n",
    "    top_k: int = 100, \n",
    "    n_factors: int = 100,\n",
    "    alpha: float = 1.0,\n",
    "    regularization: float = 0.01,\n",
    "):\n",
    "    interactions = csr_matrix(interactions)\n",
    "    als = AlternatingLeastSquares(factors=n_factors, regularization=regularization, alpha=alpha)\n",
    "    als.fit(interactions)\n",
    "    recommendations, _ = als.recommend(df_interactions['user_id'], interactions[df_interactions['user_id']], N=top_k)\n",
    "\n",
    "    return recommendations #shape ~ [n_users, top_k]"
   ]
  },
  {
   "cell_type": "code",
   "execution_count": 118,
   "id": "b5573d01-8512-450f-9260-03928ee9b367",
   "metadata": {},
   "outputs": [
    {
     "data": {
      "application/vnd.jupyter.widget-view+json": {
       "model_id": "190ecc08ba704e58ab31072fb28ca91a",
       "version_major": 2,
       "version_minor": 0
      },
      "text/plain": [
       "  0%|          | 0/15 [00:00<?, ?it/s]"
      ]
     },
     "metadata": {},
     "output_type": "display_data"
    }
   ],
   "source": [
    "recs = make_als_recommendations(interactions)\n",
    "assert recs.shape == (df_test['user_id'].nunique(), 100)"
   ]
  },
  {
   "cell_type": "code",
   "execution_count": 120,
   "id": "ccf27267",
   "metadata": {},
   "outputs": [],
   "source": [
    "df_interactions['ALS_preds'] = recs.tolist()"
   ]
  },
  {
   "cell_type": "code",
   "execution_count": 122,
   "id": "2a14d2d6",
   "metadata": {},
   "outputs": [
    {
     "data": {
      "text/plain": [
       "{'ndcg': 0.5588585154314413}"
      ]
     },
     "execution_count": 122,
     "metadata": {},
     "output_type": "execute_result"
    }
   ],
   "source": [
    "evaluate_recommender(df_interactions, \"ALS_preds\")"
   ]
  },
  {
   "cell_type": "code",
   "execution_count": 123,
   "id": "058fe6b8",
   "metadata": {},
   "outputs": [],
   "source": [
    "recs_svd = make_svd_recommendations(coo_interactions, 10, 100)\n",
    "df_interactions['SVD_preds'] = recs_svd[df_interactions['user_id'], :].tolist()"
   ]
  },
  {
   "cell_type": "code",
   "execution_count": 125,
   "id": "85ca8347",
   "metadata": {},
   "outputs": [
    {
     "data": {
      "text/plain": [
       "{'ndcg': 0.5993511113914561}"
      ]
     },
     "execution_count": 125,
     "metadata": {},
     "output_type": "execute_result"
    }
   ],
   "source": [
    "evaluate_recommender(df_interactions, \"SVD_preds\")"
   ]
  },
  {
   "cell_type": "markdown",
   "id": "c21d378a",
   "metadata": {},
   "source": [
    "На графике для SVD мы видели, что наибольшее значение на метрике NDCG было при n_singular_values = 10, поэтому для сравнения я взял предсказания с ним. Как можно видеть, SVD при таких параметрах показало чуть лучший результат. Попробуем перебрать гиперпараметры для ALS"
   ]
  },
  {
   "cell_type": "code",
   "execution_count": 133,
   "id": "1511ea7a",
   "metadata": {},
   "outputs": [],
   "source": [
    "def objective(study, model=\"als\"):\n",
    "    n_factors = study.suggest_int('n_factors', 50, 500, step=50)\n",
    "    alpha = study.suggest_float('alpha', 0.5, 5.0, step=0.5)\n",
    "    regularization = study.suggest_float('regularization', 0.001, 0.1, step=0.01)\n",
    "\n",
    "    als = AlternatingLeastSquares(factors=n_factors, regularization=regularization, alpha=alpha)\n",
    "    als.fit(csr_matrix(interactions))\n",
    "    recommendations, _ = als.recommend(df_interactions['user_id'], csr_matrix(interactions)[df_interactions['user_id']], N=100)\n",
    "\n",
    "    df_interactions[\"ALS_hyperchecking\"] = recommendations.tolist()\n",
    "    return evaluate_recommender(df_interactions, \"ALS_hyperchecking\")['ndcg']"
   ]
  },
  {
   "cell_type": "code",
   "execution_count": 134,
   "id": "778346d5",
   "metadata": {},
   "outputs": [
    {
     "name": "stderr",
     "output_type": "stream",
     "text": [
      "[I 2025-03-02 20:01:24,963] A new study created in memory with name: no-name-54815fba-85c7-49c2-aae3-4a47d69b1eaa\n"
     ]
    },
    {
     "data": {
      "application/vnd.jupyter.widget-view+json": {
       "model_id": "cfaf62d0c52549d9ac102408065ff573",
       "version_major": 2,
       "version_minor": 0
      },
      "text/plain": [
       "  0%|          | 0/15 [00:00<?, ?it/s]"
      ]
     },
     "metadata": {},
     "output_type": "display_data"
    },
    {
     "name": "stderr",
     "output_type": "stream",
     "text": [
      "[I 2025-03-02 20:02:13,700] Trial 0 finished with value: 0.48542356205623916 and parameters: {'n_factors': 350, 'alpha': 2.0, 'regularization': 0.051000000000000004}. Best is trial 0 with value: 0.48542356205623916.\n"
     ]
    },
    {
     "data": {
      "application/vnd.jupyter.widget-view+json": {
       "model_id": "f121ff8cb79b4e8382f6869ea21d8125",
       "version_major": 2,
       "version_minor": 0
      },
      "text/plain": [
       "  0%|          | 0/15 [00:00<?, ?it/s]"
      ]
     },
     "metadata": {},
     "output_type": "display_data"
    },
    {
     "name": "stderr",
     "output_type": "stream",
     "text": [
      "[I 2025-03-02 20:02:58,125] Trial 1 finished with value: 0.4883841289427574 and parameters: {'n_factors': 350, 'alpha': 4.5, 'regularization': 0.061}. Best is trial 1 with value: 0.4883841289427574.\n"
     ]
    },
    {
     "data": {
      "application/vnd.jupyter.widget-view+json": {
       "model_id": "586fa0ebe07d404bb59de4cc17df8468",
       "version_major": 2,
       "version_minor": 0
      },
      "text/plain": [
       "  0%|          | 0/15 [00:00<?, ?it/s]"
      ]
     },
     "metadata": {},
     "output_type": "display_data"
    },
    {
     "name": "stderr",
     "output_type": "stream",
     "text": [
      "[I 2025-03-02 20:03:14,766] Trial 2 finished with value: 0.5558969424426493 and parameters: {'n_factors': 100, 'alpha': 2.5, 'regularization': 0.07100000000000001}. Best is trial 2 with value: 0.5558969424426493.\n"
     ]
    },
    {
     "data": {
      "application/vnd.jupyter.widget-view+json": {
       "model_id": "2728d64e7f294c428358e72a54a620c9",
       "version_major": 2,
       "version_minor": 0
      },
      "text/plain": [
       "  0%|          | 0/15 [00:00<?, ?it/s]"
      ]
     },
     "metadata": {},
     "output_type": "display_data"
    },
    {
     "name": "stderr",
     "output_type": "stream",
     "text": [
      "[I 2025-03-02 20:03:57,817] Trial 3 finished with value: 0.4784436676165253 and parameters: {'n_factors': 350, 'alpha': 0.5, 'regularization': 0.021}. Best is trial 2 with value: 0.5558969424426493.\n"
     ]
    },
    {
     "data": {
      "application/vnd.jupyter.widget-view+json": {
       "model_id": "a3118270a825412f959bf4a90b84393b",
       "version_major": 2,
       "version_minor": 0
      },
      "text/plain": [
       "  0%|          | 0/15 [00:00<?, ?it/s]"
      ]
     },
     "metadata": {},
     "output_type": "display_data"
    },
    {
     "name": "stderr",
     "output_type": "stream",
     "text": [
      "[I 2025-03-02 20:04:11,254] Trial 4 finished with value: 0.5635827090714818 and parameters: {'n_factors': 50, 'alpha': 4.0, 'regularization': 0.041}. Best is trial 4 with value: 0.5635827090714818.\n"
     ]
    },
    {
     "data": {
      "application/vnd.jupyter.widget-view+json": {
       "model_id": "6fdace5240e044119b6dd7b2c4d9a379",
       "version_major": 2,
       "version_minor": 0
      },
      "text/plain": [
       "  0%|          | 0/15 [00:00<?, ?it/s]"
      ]
     },
     "metadata": {},
     "output_type": "display_data"
    },
    {
     "name": "stderr",
     "output_type": "stream",
     "text": [
      "[I 2025-03-02 20:04:47,167] Trial 5 finished with value: 0.5011591806413019 and parameters: {'n_factors': 250, 'alpha': 1.0, 'regularization': 0.021}. Best is trial 4 with value: 0.5635827090714818.\n"
     ]
    },
    {
     "data": {
      "application/vnd.jupyter.widget-view+json": {
       "model_id": "e7047c3b33ac401a933ba6d917bd33f2",
       "version_major": 2,
       "version_minor": 0
      },
      "text/plain": [
       "  0%|          | 0/15 [00:00<?, ?it/s]"
      ]
     },
     "metadata": {},
     "output_type": "display_data"
    },
    {
     "name": "stderr",
     "output_type": "stream",
     "text": [
      "[I 2025-03-02 20:05:18,106] Trial 6 finished with value: 0.5191978058342848 and parameters: {'n_factors': 200, 'alpha': 4.5, 'regularization': 0.031}. Best is trial 4 with value: 0.5635827090714818.\n"
     ]
    },
    {
     "data": {
      "application/vnd.jupyter.widget-view+json": {
       "model_id": "e0679eebd8b948c4842ea2b2d34e8382",
       "version_major": 2,
       "version_minor": 0
      },
      "text/plain": [
       "  0%|          | 0/15 [00:00<?, ?it/s]"
      ]
     },
     "metadata": {},
     "output_type": "display_data"
    },
    {
     "name": "stderr",
     "output_type": "stream",
     "text": [
      "[I 2025-03-02 20:05:35,234] Trial 7 finished with value: 0.5420969322293749 and parameters: {'n_factors': 100, 'alpha': 5.0, 'regularization': 0.001}. Best is trial 4 with value: 0.5635827090714818.\n"
     ]
    },
    {
     "data": {
      "application/vnd.jupyter.widget-view+json": {
       "model_id": "96be0605b9cc4cb5a37822ca7013de2c",
       "version_major": 2,
       "version_minor": 0
      },
      "text/plain": [
       "  0%|          | 0/15 [00:00<?, ?it/s]"
      ]
     },
     "metadata": {},
     "output_type": "display_data"
    },
    {
     "name": "stderr",
     "output_type": "stream",
     "text": [
      "[I 2025-03-02 20:05:51,851] Trial 8 finished with value: 0.5607597875706923 and parameters: {'n_factors': 100, 'alpha': 0.5, 'regularization': 0.041}. Best is trial 4 with value: 0.5635827090714818.\n"
     ]
    },
    {
     "data": {
      "application/vnd.jupyter.widget-view+json": {
       "model_id": "24e73b45971b47c0aaeb2e078042d296",
       "version_major": 2,
       "version_minor": 0
      },
      "text/plain": [
       "  0%|          | 0/15 [00:00<?, ?it/s]"
      ]
     },
     "metadata": {},
     "output_type": "display_data"
    },
    {
     "name": "stderr",
     "output_type": "stream",
     "text": [
      "[I 2025-03-02 20:06:23,441] Trial 9 finished with value: 0.5196182426802494 and parameters: {'n_factors': 200, 'alpha': 2.5, 'regularization': 0.001}. Best is trial 4 with value: 0.5635827090714818.\n"
     ]
    }
   ],
   "source": [
    "import optuna\n",
    "\n",
    "study = optuna.create_study(direction='maximize')\n",
    "study.optimize(objective, n_trials=10)"
   ]
  },
  {
   "cell_type": "code",
   "execution_count": 135,
   "id": "954ef16c",
   "metadata": {},
   "outputs": [
    {
     "data": {
      "text/plain": [
       "{'n_factors': 50, 'alpha': 4.0, 'regularization': 0.041}"
      ]
     },
     "execution_count": 135,
     "metadata": {},
     "output_type": "execute_result"
    }
   ],
   "source": [
    "study.best_params"
   ]
  },
  {
   "cell_type": "markdown",
   "id": "1868535d",
   "metadata": {},
   "source": [
    "При таких значениях гипрепараметров получили чуть лучшее качество (0.5635827090714818)"
   ]
  },
  {
   "cell_type": "markdown",
   "id": "81f3b1cc-760b-4d6a-ab8a-aca57b7b6dfe",
   "metadata": {},
   "source": [
    "##### Задание 3.2. Сделайте объяснение рекомендаций для нескольких юзеров(als.explain). Воспользуйтесь файлом movies.dat чтобы перейти от индексов фильмов к их названием"
   ]
  },
  {
   "cell_type": "code",
   "execution_count": 145,
   "id": "40b3c0dd",
   "metadata": {},
   "outputs": [],
   "source": [
    "df_movies = pd.read_csv(\"ml-1m/movies.dat\", sep='::', names=['item_id', 'name', 'genre'], engine='python', encoding=\"ISO-8859-1\")"
   ]
  },
  {
   "cell_type": "code",
   "execution_count": 146,
   "id": "f59d5fcb",
   "metadata": {},
   "outputs": [],
   "source": [
    "df_movies = df_movies[df_movies['item_id'].isin(train_items)]\n",
    "df_movies['item_id'] = item_le.transform(df_movies['item_id'])"
   ]
  },
  {
   "cell_type": "code",
   "execution_count": 147,
   "id": "634b65ca",
   "metadata": {},
   "outputs": [
    {
     "data": {
      "text/html": [
       "<div>\n",
       "<style scoped>\n",
       "    .dataframe tbody tr th:only-of-type {\n",
       "        vertical-align: middle;\n",
       "    }\n",
       "\n",
       "    .dataframe tbody tr th {\n",
       "        vertical-align: top;\n",
       "    }\n",
       "\n",
       "    .dataframe thead th {\n",
       "        text-align: right;\n",
       "    }\n",
       "</style>\n",
       "<table border=\"1\" class=\"dataframe\">\n",
       "  <thead>\n",
       "    <tr style=\"text-align: right;\">\n",
       "      <th></th>\n",
       "      <th>item_id</th>\n",
       "      <th>name</th>\n",
       "      <th>genre</th>\n",
       "    </tr>\n",
       "  </thead>\n",
       "  <tbody>\n",
       "    <tr>\n",
       "      <th>0</th>\n",
       "      <td>0</td>\n",
       "      <td>Toy Story (1995)</td>\n",
       "      <td>Animation|Children's|Comedy</td>\n",
       "    </tr>\n",
       "    <tr>\n",
       "      <th>1</th>\n",
       "      <td>1</td>\n",
       "      <td>Jumanji (1995)</td>\n",
       "      <td>Adventure|Children's|Fantasy</td>\n",
       "    </tr>\n",
       "    <tr>\n",
       "      <th>2</th>\n",
       "      <td>2</td>\n",
       "      <td>Grumpier Old Men (1995)</td>\n",
       "      <td>Comedy|Romance</td>\n",
       "    </tr>\n",
       "    <tr>\n",
       "      <th>3</th>\n",
       "      <td>3</td>\n",
       "      <td>Waiting to Exhale (1995)</td>\n",
       "      <td>Comedy|Drama</td>\n",
       "    </tr>\n",
       "    <tr>\n",
       "      <th>4</th>\n",
       "      <td>4</td>\n",
       "      <td>Father of the Bride Part II (1995)</td>\n",
       "      <td>Comedy</td>\n",
       "    </tr>\n",
       "    <tr>\n",
       "      <th>...</th>\n",
       "      <td>...</td>\n",
       "      <td>...</td>\n",
       "      <td>...</td>\n",
       "    </tr>\n",
       "    <tr>\n",
       "      <th>3878</th>\n",
       "      <td>3005</td>\n",
       "      <td>Meet the Parents (2000)</td>\n",
       "      <td>Comedy</td>\n",
       "    </tr>\n",
       "    <tr>\n",
       "      <th>3879</th>\n",
       "      <td>3006</td>\n",
       "      <td>Requiem for a Dream (2000)</td>\n",
       "      <td>Drama</td>\n",
       "    </tr>\n",
       "    <tr>\n",
       "      <th>3880</th>\n",
       "      <td>3007</td>\n",
       "      <td>Tigerland (2000)</td>\n",
       "      <td>Drama</td>\n",
       "    </tr>\n",
       "    <tr>\n",
       "      <th>3881</th>\n",
       "      <td>3008</td>\n",
       "      <td>Two Family House (2000)</td>\n",
       "      <td>Drama</td>\n",
       "    </tr>\n",
       "    <tr>\n",
       "      <th>3882</th>\n",
       "      <td>3009</td>\n",
       "      <td>Contender, The (2000)</td>\n",
       "      <td>Drama|Thriller</td>\n",
       "    </tr>\n",
       "  </tbody>\n",
       "</table>\n",
       "<p>3010 rows × 3 columns</p>\n",
       "</div>"
      ],
      "text/plain": [
       "      item_id                                name  \\\n",
       "0           0                    Toy Story (1995)   \n",
       "1           1                      Jumanji (1995)   \n",
       "2           2             Grumpier Old Men (1995)   \n",
       "3           3            Waiting to Exhale (1995)   \n",
       "4           4  Father of the Bride Part II (1995)   \n",
       "...       ...                                 ...   \n",
       "3878     3005             Meet the Parents (2000)   \n",
       "3879     3006          Requiem for a Dream (2000)   \n",
       "3880     3007                    Tigerland (2000)   \n",
       "3881     3008             Two Family House (2000)   \n",
       "3882     3009               Contender, The (2000)   \n",
       "\n",
       "                             genre  \n",
       "0      Animation|Children's|Comedy  \n",
       "1     Adventure|Children's|Fantasy  \n",
       "2                   Comedy|Romance  \n",
       "3                     Comedy|Drama  \n",
       "4                           Comedy  \n",
       "...                            ...  \n",
       "3878                        Comedy  \n",
       "3879                         Drama  \n",
       "3880                         Drama  \n",
       "3881                         Drama  \n",
       "3882                Drama|Thriller  \n",
       "\n",
       "[3010 rows x 3 columns]"
      ]
     },
     "execution_count": 147,
     "metadata": {},
     "output_type": "execute_result"
    }
   ],
   "source": [
    "df_movies"
   ]
  },
  {
   "cell_type": "code",
   "execution_count": 148,
   "id": "ddd9a956-d2f5-4560-8d0c-c72164ebdfa8",
   "metadata": {},
   "outputs": [
    {
     "data": {
      "application/vnd.jupyter.widget-view+json": {
       "model_id": "c30d897239c34590a98b57be5e5cb360",
       "version_major": 2,
       "version_minor": 0
      },
      "text/plain": [
       "  0%|          | 0/15 [00:00<?, ?it/s]"
      ]
     },
     "metadata": {},
     "output_type": "display_data"
    }
   ],
   "source": [
    "als = AlternatingLeastSquares(factors=50, regularization=0.041, alpha=4.0)\n",
    "als.fit(csr_matrix(interactions))\n",
    "recommendations, _ = als.recommend(df_interactions['user_id'], csr_matrix(interactions)[df_interactions['user_id']], N=100)"
   ]
  },
  {
   "cell_type": "code",
   "execution_count": 150,
   "id": "272c9300",
   "metadata": {},
   "outputs": [],
   "source": [
    "df_interactions[\"ALS_preds\"] = recommendations.tolist()"
   ]
  },
  {
   "cell_type": "code",
   "execution_count": 154,
   "id": "f4a40dca",
   "metadata": {},
   "outputs": [],
   "source": [
    "df_interactions.drop(\"ALS_hyperchecking\", axis=1, inplace=True)"
   ]
  },
  {
   "cell_type": "code",
   "execution_count": 155,
   "id": "7e0f06d5",
   "metadata": {},
   "outputs": [
    {
     "data": {
      "text/html": [
       "<div>\n",
       "<style scoped>\n",
       "    .dataframe tbody tr th:only-of-type {\n",
       "        vertical-align: middle;\n",
       "    }\n",
       "\n",
       "    .dataframe tbody tr th {\n",
       "        vertical-align: top;\n",
       "    }\n",
       "\n",
       "    .dataframe thead th {\n",
       "        text-align: right;\n",
       "    }\n",
       "</style>\n",
       "<table border=\"1\" class=\"dataframe\">\n",
       "  <thead>\n",
       "    <tr style=\"text-align: right;\">\n",
       "      <th></th>\n",
       "      <th>user_id</th>\n",
       "      <th>test_interactions</th>\n",
       "      <th>ALS_preds</th>\n",
       "      <th>SVD_preds</th>\n",
       "    </tr>\n",
       "  </thead>\n",
       "  <tbody>\n",
       "    <tr>\n",
       "      <th>0</th>\n",
       "      <td>0</td>\n",
       "      <td>[925, 926, 2992, 927, 936, 3004, 959, 670, 124...</td>\n",
       "      <td>[638, 900, 670, 927, 2350, 883, 944, 665, 873,...</td>\n",
       "      <td>[670, 638, 1203, 675, 665, 924, 944, 900, 584,...</td>\n",
       "    </tr>\n",
       "    <tr>\n",
       "      <th>1</th>\n",
       "      <td>1</td>\n",
       "      <td>[927, 928, 929, 933, 2278, 496, 2279, 2284, 30...</td>\n",
       "      <td>[929, 95, 638, 900, 944, 898, 908, 685, 2833, ...</td>\n",
       "      <td>[638, 900, 929, 211, 95, 898, 2278, 670, 812, ...</td>\n",
       "    </tr>\n",
       "    <tr>\n",
       "      <th>2</th>\n",
       "      <td>3</td>\n",
       "      <td>[925, 2995, 961, 1848, 839, 2780, 2399, 891]</td>\n",
       "      <td>[2398, 1837, 1204, 948, 222, 1377, 2579, 248, ...</td>\n",
       "      <td>[1203, 1024, 16, 1793, 2278, 215, 47, 892, 122...</td>\n",
       "    </tr>\n",
       "    <tr>\n",
       "      <th>3</th>\n",
       "      <td>4</td>\n",
       "      <td>[580, 665, 666, 1203, 510, 2097, 775, 47]</td>\n",
       "      <td>[877, 2807, 1166, 2806, 1142, 775, 1910, 2630,...</td>\n",
       "      <td>[877, 876, 1982, 820, 968, 775, 638, 449, 510,...</td>\n",
       "    </tr>\n",
       "    <tr>\n",
       "      <th>4</th>\n",
       "      <td>6</td>\n",
       "      <td>[1520, 2886, 1521, 934, 569, 2278, 935, 936, 4...</td>\n",
       "      <td>[889, 2168, 875, 94, 877, 876, 1497, 496, 820,...</td>\n",
       "      <td>[875, 889, 877, 876, 1940, 917, 496, 1497, 820...</td>\n",
       "    </tr>\n",
       "    <tr>\n",
       "      <th>...</th>\n",
       "      <td>...</td>\n",
       "      <td>...</td>\n",
       "      <td>...</td>\n",
       "      <td>...</td>\n",
       "    </tr>\n",
       "    <tr>\n",
       "      <th>1142</th>\n",
       "      <td>5325</td>\n",
       "      <td>[496, 1084, 722, 2638, 2183, 2397, 1155, 2215,...</td>\n",
       "      <td>[2215, 1788, 2179, 378, 314, 528, 861, 2282, 8...</td>\n",
       "      <td>[638, 496, 1497, 449, 262, 900, 94, 584, 31, 8...</td>\n",
       "    </tr>\n",
       "    <tr>\n",
       "      <th>1143</th>\n",
       "      <td>5326</td>\n",
       "      <td>[2882, 2287, 1073, 2308, 664, 1561, 671, 2353,...</td>\n",
       "      <td>[2626, 924, 675, 2355, 2306, 1417, 2688, 1422,...</td>\n",
       "      <td>[877, 924, 670, 675, 666, 1046, 876, 898, 817,...</td>\n",
       "    </tr>\n",
       "    <tr>\n",
       "      <th>1144</th>\n",
       "      <td>5340</td>\n",
       "      <td>[2888, 1527, 1529, 662, 2315, 1087, 676, 682, ...</td>\n",
       "      <td>[76, 961, 1627, 222, 337, 964, 1279, 1529, 181...</td>\n",
       "      <td>[1218, 682, 298, 2543, 868, 1563, 2776, 462, 1...</td>\n",
       "    </tr>\n",
       "    <tr>\n",
       "      <th>1145</th>\n",
       "      <td>5352</td>\n",
       "      <td>[2279]</td>\n",
       "      <td>[317, 2240, 1752, 381, 1645, 1524, 2473, 901, ...</td>\n",
       "      <td>[877, 496, 875, 1497, 381, 94, 404, 1470, 1167...</td>\n",
       "    </tr>\n",
       "    <tr>\n",
       "      <th>1146</th>\n",
       "      <td>5364</td>\n",
       "      <td>[1532, 713, 2588, 187, 2424, 1940, 1944, 1394,...</td>\n",
       "      <td>[866, 890, 1738, 2477, 911, 935, 818, 2294, 84...</td>\n",
       "      <td>[900, 1528, 947, 944, 876, 911, 886, 912, 2544...</td>\n",
       "    </tr>\n",
       "  </tbody>\n",
       "</table>\n",
       "<p>1147 rows × 4 columns</p>\n",
       "</div>"
      ],
      "text/plain": [
       "      user_id                                  test_interactions  \\\n",
       "0           0  [925, 926, 2992, 927, 936, 3004, 959, 670, 124...   \n",
       "1           1  [927, 928, 929, 933, 2278, 496, 2279, 2284, 30...   \n",
       "2           3       [925, 2995, 961, 1848, 839, 2780, 2399, 891]   \n",
       "3           4          [580, 665, 666, 1203, 510, 2097, 775, 47]   \n",
       "4           6  [1520, 2886, 1521, 934, 569, 2278, 935, 936, 4...   \n",
       "...       ...                                                ...   \n",
       "1142     5325  [496, 1084, 722, 2638, 2183, 2397, 1155, 2215,...   \n",
       "1143     5326  [2882, 2287, 1073, 2308, 664, 1561, 671, 2353,...   \n",
       "1144     5340  [2888, 1527, 1529, 662, 2315, 1087, 676, 682, ...   \n",
       "1145     5352                                             [2279]   \n",
       "1146     5364  [1532, 713, 2588, 187, 2424, 1940, 1944, 1394,...   \n",
       "\n",
       "                                              ALS_preds  \\\n",
       "0     [638, 900, 670, 927, 2350, 883, 944, 665, 873,...   \n",
       "1     [929, 95, 638, 900, 944, 898, 908, 685, 2833, ...   \n",
       "2     [2398, 1837, 1204, 948, 222, 1377, 2579, 248, ...   \n",
       "3     [877, 2807, 1166, 2806, 1142, 775, 1910, 2630,...   \n",
       "4     [889, 2168, 875, 94, 877, 876, 1497, 496, 820,...   \n",
       "...                                                 ...   \n",
       "1142  [2215, 1788, 2179, 378, 314, 528, 861, 2282, 8...   \n",
       "1143  [2626, 924, 675, 2355, 2306, 1417, 2688, 1422,...   \n",
       "1144  [76, 961, 1627, 222, 337, 964, 1279, 1529, 181...   \n",
       "1145  [317, 2240, 1752, 381, 1645, 1524, 2473, 901, ...   \n",
       "1146  [866, 890, 1738, 2477, 911, 935, 818, 2294, 84...   \n",
       "\n",
       "                                              SVD_preds  \n",
       "0     [670, 638, 1203, 675, 665, 924, 944, 900, 584,...  \n",
       "1     [638, 900, 929, 211, 95, 898, 2278, 670, 812, ...  \n",
       "2     [1203, 1024, 16, 1793, 2278, 215, 47, 892, 122...  \n",
       "3     [877, 876, 1982, 820, 968, 775, 638, 449, 510,...  \n",
       "4     [875, 889, 877, 876, 1940, 917, 496, 1497, 820...  \n",
       "...                                                 ...  \n",
       "1142  [638, 496, 1497, 449, 262, 900, 94, 584, 31, 8...  \n",
       "1143  [877, 924, 670, 675, 666, 1046, 876, 898, 817,...  \n",
       "1144  [1218, 682, 298, 2543, 868, 1563, 2776, 462, 1...  \n",
       "1145  [877, 496, 875, 1497, 381, 94, 404, 1470, 1167...  \n",
       "1146  [900, 1528, 947, 944, 876, 911, 886, 912, 2544...  \n",
       "\n",
       "[1147 rows x 4 columns]"
      ]
     },
     "execution_count": 155,
     "metadata": {},
     "output_type": "execute_result"
    }
   ],
   "source": [
    "df_interactions"
   ]
  },
  {
   "cell_type": "code",
   "execution_count": 219,
   "id": "8ccbf293",
   "metadata": {},
   "outputs": [],
   "source": [
    "def get_info_about_main_rec_for_user(user_id):\n",
    "    preds = df_interactions.loc[df_interactions.user_id == user_id].ALS_preds.tolist()[0]\n",
    "    name = df_movies.loc[df_movies.item_id == preds[0]].name.tolist()[0]\n",
    "    print(f\"Top-1 recommendation - {name}\\n\")\n",
    "    print(\"Explanation (based on 5 more relevant movies):\")\n",
    "    _, top_contributions, _ = als.explain(user_id, csr_matrix(interactions), preds[0], N=5)\n",
    "    for itemid, _ in top_contributions:\n",
    "        print(f\"\\t{df_movies.loc[df_movies.item_id == itemid].name.tolist()[0]}\")\n"
   ]
  },
  {
   "cell_type": "code",
   "execution_count": 220,
   "id": "193c9eef",
   "metadata": {},
   "outputs": [
    {
     "name": "stdout",
     "output_type": "stream",
     "text": [
      "Top-1 recommendation - Star Wars: Episode VI - Return of the Jedi (1983)\n",
      "\n",
      "Explanation (based on 5 more relevant movies):\n",
      "\tStar Wars: Episode IV - A New Hope (1977)\n",
      "\tBack to the Future (1985)\n",
      "\tJurassic Park (1993)\n",
      "\tL.A. Confidential (1997)\n",
      "\tBodyguard, The (1992)\n"
     ]
    }
   ],
   "source": [
    "get_info_about_main_rec_for_user(6)"
   ]
  },
  {
   "cell_type": "code",
   "execution_count": 233,
   "id": "b484c73b",
   "metadata": {},
   "outputs": [
    {
     "name": "stdout",
     "output_type": "stream",
     "text": [
      "Top-1 recommendation - American Beauty (1999)\n",
      "\n",
      "Explanation (based on 5 more relevant movies):\n",
      "\tOne Flew Over the Cuckoo's Nest (1975)\n",
      "\tL.A. Confidential (1997)\n",
      "\tCivil Action, A (1998)\n",
      "\tJury Duty (1995)\n",
      "\tJackie Brown (1997)\n"
     ]
    }
   ],
   "source": [
    "get_info_about_main_rec_for_user(22)"
   ]
  },
  {
   "cell_type": "code",
   "execution_count": 237,
   "id": "85547061",
   "metadata": {},
   "outputs": [
    {
     "name": "stdout",
     "output_type": "stream",
     "text": [
      "Top-1 recommendation - Starship Troopers (1997)\n",
      "\n",
      "Explanation (based on 5 more relevant movies):\n",
      "\tStar Trek VI: The Undiscovered Country (1991)\n",
      "\tMars Attacks! (1996)\n",
      "\tArmy of Darkness (1993)\n",
      "\tIndependence Day (ID4) (1996)\n",
      "\tTotal Recall (1990)\n"
     ]
    }
   ],
   "source": [
    "get_info_about_main_rec_for_user(28)"
   ]
  },
  {
   "cell_type": "code",
   "execution_count": 245,
   "id": "c56a5dd8",
   "metadata": {},
   "outputs": [
    {
     "name": "stdout",
     "output_type": "stream",
     "text": [
      "Top-1 recommendation - Saving Private Ryan (1998)\n",
      "\n",
      "Explanation (based on 5 more relevant movies):\n",
      "\tSchindler's List (1993)\n",
      "\tSilence of the Lambs, The (1991)\n",
      "\tShawshank Redemption, The (1994)\n",
      "\tOne Flew Over the Cuckoo's Nest (1975)\n",
      "\tAmerican Beauty (1999)\n"
     ]
    }
   ],
   "source": [
    "get_info_about_main_rec_for_user(df_interactions.user_id.tolist()[14])"
   ]
  },
  {
   "cell_type": "code",
   "execution_count": 261,
   "id": "83d3582e",
   "metadata": {},
   "outputs": [
    {
     "name": "stdout",
     "output_type": "stream",
     "text": [
      "Top-1 recommendation - Toy Story 2 (1999)\n",
      "\n",
      "Explanation (based on 5 more relevant movies):\n",
      "\tToy Story (1995)\n",
      "\tShakespeare in Love (1998)\n",
      "\tElection (1999)\n",
      "\tThere's Something About Mary (1998)\n",
      "\tGroundhog Day (1993)\n"
     ]
    }
   ],
   "source": [
    "get_info_about_main_rec_for_user(df_interactions.user_id.tolist()[30])"
   ]
  },
  {
   "cell_type": "markdown",
   "id": "d8132fcb",
   "metadata": {},
   "source": [
    "Видим, что объяснения довольно логичные. Для фильмов, которые имеют несколько частей (Star wars, toy story) в объяснениях стоят другие части франшиз. Так же в объяснения попадают фильмы схожих жанров и тематик"
   ]
  },
  {
   "cell_type": "markdown",
   "id": "d7d7ea0c-8288-45f5-83d4-9761a8952669",
   "metadata": {},
   "source": [
    "##### Задание 4. До этого мы работали с рейтингами, но как обсуждалось на лекции, implicit ALS отлично работает и с implicit фидбэком. Давайте попробуем преобразовать наш датасет(трейн и тест) следующим образом\n",
    "\n",
    "1. Бинаризуем все рейтинги(заменим любую интеракцию пользователя на 1)\n",
    "2. Заменим на 1 только рейтинги 4 и 5, а рейтинг ниже 4 заменим на 0\n",
    "3. Заменим на 1 только рейтинги 4 и 5, а рейтинг ниже 4 заменим на -1\n",
    "4. Заменим на 1 только рейтинги 4 и 5, а рейтинг ниже 4 заменим на -1 и добавим сглаживание по времени. То есть чем дальше была интеракция от максимальной даты трейна, тем с меньшим весом мы будем ее учитывать(например можно интеракции за последний месяц брать в исходном виде, и с каждым месяцем в прошлое умножать их на какой-нибудь коэффициент меньший 1). Таким образом более старые интеракции пользователя будут вносить меньший вклад в его интересы\n",
    "5. Придумайте свой вариант(опционально)\n",
    "\n",
    "Для каждой полученной матрицы обучите iALS и SVD и сравните их результаты между собой(преобразовывать нужно только обучающую выборку, тестовую оставляем неизменной)"
   ]
  },
  {
   "cell_type": "markdown",
   "id": "f4b326a3",
   "metadata": {},
   "source": [
    "1. Бинаризуем все рейтинги(заменим любую интеракцию пользователя на 1)"
   ]
  },
  {
   "cell_type": "code",
   "execution_count": 301,
   "id": "c839fd09-eca4-43e0-a209-2da63775f79f",
   "metadata": {},
   "outputs": [],
   "source": [
    "df_train_1 = df_train.copy()\n",
    "df_train_1['rating'] = df_train_1['rating'].apply(lambda x: 1 if x > 0 else 0)\n",
    "interactions_1 = df_to_matrix(df_train_1)"
   ]
  },
  {
   "cell_type": "code",
   "execution_count": 303,
   "id": "ad21eaec",
   "metadata": {},
   "outputs": [
    {
     "data": {
      "application/vnd.jupyter.widget-view+json": {
       "model_id": "652e538a9f2049adbfca1e7739ef1b7d",
       "version_major": 2,
       "version_minor": 0
      },
      "text/plain": [
       "  0%|          | 0/15 [00:00<?, ?it/s]"
      ]
     },
     "metadata": {},
     "output_type": "display_data"
    },
    {
     "name": "stdout",
     "output_type": "stream",
     "text": [
      "NDCG SVD - 0.38792604071965603\n",
      "NDCG ALS - 0.5514151863138065\n"
     ]
    }
   ],
   "source": [
    "recs_als = make_als_recommendations(interactions_1)\n",
    "recs_svd = make_svd_recommendations(interactions_1)\n",
    "\n",
    "df_interactions['SVD_preds'] = recs_svd[df_interactions['user_id'], :].tolist()\n",
    "df_interactions[\"ALS_preds\"] = recs_als.tolist()\n",
    "\n",
    "ndcg_svd = evaluate_recommender(df_interactions, \"SVD_preds\")['ndcg']\n",
    "ndcg_als = evaluate_recommender(df_interactions, \"ALS_preds\")['ndcg']\n",
    "\n",
    "print(f\"NDCG SVD - {ndcg_svd}\\nNDCG ALS - {ndcg_als}\")"
   ]
  },
  {
   "cell_type": "markdown",
   "id": "e9b0b99a",
   "metadata": {},
   "source": [
    "2. Заменим на 1 только рейтинги 4 и 5, а рейтинг ниже 4 заменим на 0"
   ]
  },
  {
   "cell_type": "code",
   "execution_count": 304,
   "id": "2f5d9ef3",
   "metadata": {},
   "outputs": [],
   "source": [
    "df_train_2 = df_train.copy()\n",
    "df_train_2['rating'] = df_train_2['rating'].apply(lambda x: 1 if x >= 4 else 0)\n",
    "interactions_2 = df_to_matrix(df_train_2)"
   ]
  },
  {
   "cell_type": "code",
   "execution_count": 305,
   "id": "e03fd775",
   "metadata": {},
   "outputs": [
    {
     "data": {
      "application/vnd.jupyter.widget-view+json": {
       "model_id": "241cf08529494e0689a411ea4c3f5ccb",
       "version_major": 2,
       "version_minor": 0
      },
      "text/plain": [
       "  0%|          | 0/15 [00:00<?, ?it/s]"
      ]
     },
     "metadata": {},
     "output_type": "display_data"
    },
    {
     "name": "stdout",
     "output_type": "stream",
     "text": [
      "NDCG SVD - 0.32778574961126805\n",
      "NDCG ALS - 0.5259367732083019\n"
     ]
    }
   ],
   "source": [
    "recs_als = make_als_recommendations(interactions_2)\n",
    "recs_svd = make_svd_recommendations(interactions_2)\n",
    "\n",
    "df_interactions['SVD_preds'] = recs_svd[df_interactions['user_id'], :].tolist()\n",
    "df_interactions[\"ALS_preds\"] = recs_als.tolist()\n",
    "\n",
    "ndcg_svd = evaluate_recommender(df_interactions, \"SVD_preds\")['ndcg']\n",
    "ndcg_als = evaluate_recommender(df_interactions, \"ALS_preds\")['ndcg']\n",
    "\n",
    "print(f\"NDCG SVD - {ndcg_svd}\\nNDCG ALS - {ndcg_als}\")"
   ]
  },
  {
   "cell_type": "markdown",
   "id": "3b460f0e",
   "metadata": {},
   "source": [
    "3. Заменим на 1 только рейтинги 4 и 5, а рейтинг ниже 4 заменим на -1"
   ]
  },
  {
   "cell_type": "code",
   "execution_count": 307,
   "id": "40af4852",
   "metadata": {},
   "outputs": [],
   "source": [
    "df_train_3 = df_train.copy()\n",
    "df_train_3['rating'] = df_train_3['rating'].apply(lambda x: 1 if x >= 4 else -1)\n",
    "interactions_3 = df_to_matrix(df_train_3)"
   ]
  },
  {
   "cell_type": "code",
   "execution_count": 308,
   "id": "ab6766c3",
   "metadata": {},
   "outputs": [
    {
     "data": {
      "application/vnd.jupyter.widget-view+json": {
       "model_id": "af10b1907aca4affbef143d570a92c9c",
       "version_major": 2,
       "version_minor": 0
      },
      "text/plain": [
       "  0%|          | 0/15 [00:00<?, ?it/s]"
      ]
     },
     "metadata": {},
     "output_type": "display_data"
    },
    {
     "name": "stdout",
     "output_type": "stream",
     "text": [
      "NDCG SVD - 0.3940504128363605\n",
      "NDCG ALS - 0.5629246022599828\n"
     ]
    }
   ],
   "source": [
    "recs_als = make_als_recommendations(interactions_3)\n",
    "recs_svd = make_svd_recommendations(interactions_3)\n",
    "\n",
    "df_interactions['SVD_preds'] = recs_svd[df_interactions['user_id'], :].tolist()\n",
    "df_interactions[\"ALS_preds\"] = recs_als.tolist()\n",
    "\n",
    "ndcg_svd = evaluate_recommender(df_interactions, \"SVD_preds\")['ndcg']\n",
    "ndcg_als = evaluate_recommender(df_interactions, \"ALS_preds\")['ndcg']\n",
    "\n",
    "print(f\"NDCG SVD - {ndcg_svd}\\nNDCG ALS - {ndcg_als}\")"
   ]
  },
  {
   "cell_type": "markdown",
   "id": "932464aa",
   "metadata": {},
   "source": [
    "4. Заменим на 1 только рейтинги 4 и 5, а рейтинг ниже 4 заменим на -1 и добавим сглаживание по времени. То есть чем дальше была интеракция от максимальной даты трейна, тем с меньшим весом мы будем ее учитывать(например можно интеракции за последний месяц брать в исходном виде, и с каждым месяцем в прошлое умножать их на какой-нибудь коэффициент меньший 1). Таким образом более старые интеракции пользователя будут вносить меньший вклад в его интересы"
   ]
  },
  {
   "cell_type": "code",
   "execution_count": 352,
   "id": "91cd27d2",
   "metadata": {},
   "outputs": [],
   "source": [
    "df_train_4 = df_train.copy()\n",
    "df_train_4['rating'] = df_train_4['rating'].apply(lambda x: 1 if x >= 4 else -1)\n",
    "max_date = df_train_4['datetime'].max()\n",
    "df_train_4['datetime'] = (max_date - df_train_4['datetime']).dt.days // 30\n",
    "df_train_4['rating'] *= 0.9**df_train_4['datetime']"
   ]
  },
  {
   "cell_type": "code",
   "execution_count": 353,
   "id": "0d6de203",
   "metadata": {},
   "outputs": [],
   "source": [
    "interactions_4 = df_to_matrix(df_train_4)"
   ]
  },
  {
   "cell_type": "code",
   "execution_count": 354,
   "id": "4941f14e",
   "metadata": {},
   "outputs": [
    {
     "data": {
      "application/vnd.jupyter.widget-view+json": {
       "model_id": "b677838afabd4a0f97d8c02ece7f692a",
       "version_major": 2,
       "version_minor": 0
      },
      "text/plain": [
       "  0%|          | 0/15 [00:00<?, ?it/s]"
      ]
     },
     "metadata": {},
     "output_type": "display_data"
    },
    {
     "name": "stdout",
     "output_type": "stream",
     "text": [
      "NDCG SVD - 0.3567730397674985\n",
      "NDCG ALS - 0.5598532081930138\n"
     ]
    }
   ],
   "source": [
    "recs_als = make_als_recommendations(interactions_4)\n",
    "recs_svd = make_svd_recommendations(interactions_4)\n",
    "\n",
    "df_interactions['SVD_preds'] = recs_svd[df_interactions['user_id'], :].tolist()\n",
    "df_interactions[\"ALS_preds\"] = recs_als.tolist()\n",
    "\n",
    "ndcg_svd = evaluate_recommender(df_interactions, \"SVD_preds\")['ndcg']\n",
    "ndcg_als = evaluate_recommender(df_interactions, \"ALS_preds\")['ndcg']\n",
    "\n",
    "print(f\"NDCG SVD - {ndcg_svd}\\nNDCG ALS - {ndcg_als}\")"
   ]
  },
  {
   "cell_type": "markdown",
   "id": "ea6f7905",
   "metadata": {},
   "source": [
    "Видим, что преобразовывая наш датасет, можно получить лучшие результаты для одних и тех же моделей, особенно хорошо себя показывает как раз iALS"
   ]
  }
 ],
 "metadata": {
  "interpreter": {
   "hash": "aee8b7b246df8f9039afb4144a1f6fd8d2ca17a180786b69acc140d282b71a49"
  },
  "kernelspec": {
   "display_name": "recsys_course",
   "language": "python",
   "name": "python3"
  },
  "language_info": {
   "codemirror_mode": {
    "name": "ipython",
    "version": 3
   },
   "file_extension": ".py",
   "mimetype": "text/x-python",
   "name": "python",
   "nbconvert_exporter": "python",
   "pygments_lexer": "ipython3",
   "version": "3.10.1"
  }
 },
 "nbformat": 4,
 "nbformat_minor": 5
}
