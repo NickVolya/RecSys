{
 "cells": [
  {
   "cell_type": "markdown",
   "id": "c865b610-e175-4e9f-be2f-995e43e45332",
   "metadata": {
    "id": "c865b610-e175-4e9f-be2f-995e43e45332"
   },
   "source": [
    "## ДЗ №1. Метрики и простейшие алгоритмы рекомендаций"
   ]
  },
  {
   "cell_type": "markdown",
   "id": "16ff81db-dc65-4d89-8c79-d4e2a6e71879",
   "metadata": {
    "id": "16ff81db-dc65-4d89-8c79-d4e2a6e71879"
   },
   "source": [
    "## Общая информация\n",
    "**Дата выдачи: 4 февраля 2025**\n",
    "\n",
    "**Дедлайн: 12 февраля 2025 23:59 MSK**"
   ]
  },
  {
   "cell_type": "code",
   "execution_count": 2,
   "id": "e5fbada3-40bc-4748-9897-1c0e15d7892a",
   "metadata": {
    "id": "e5fbada3-40bc-4748-9897-1c0e15d7892a"
   },
   "outputs": [],
   "source": [
    "import pandas as pd\n",
    "import numpy as np\n",
    "from matplotlib import pyplot as plt\n",
    "from tqdm.auto import tqdm\n",
    "from typing import List, Optional\n",
    "from metric_tests import run_tests\n",
    "\n",
    "%matplotlib inline"
   ]
  },
  {
   "cell_type": "markdown",
   "id": "4098f8b8-a49a-4a66-92e2-e75c7acc4988",
   "metadata": {
    "id": "4098f8b8-a49a-4a66-92e2-e75c7acc4988"
   },
   "source": [
    "## О задании\n",
    "\n",
    "В этой работе мы посмотрим на то, как работают самые простые модели для рекомендаций. Как правило, они не требуют построения специальных моделей, но даже так оказываются полезны в качестве бейзлайна. Попробуем сделать предсказания с помощью EASE. Это тоже довольно простой подход, но не стоит забывать, что сложные модели могут оказаться не лучшим выбором в условиях большого количества данных. Посчитаем метрики, построим графики и подумаем, насколько хорошо эти модели вообще решают поставленную задачу.\n",
    "\n",
    "Мы будем работать с датасетом по рекомендации фильмов от Kion MTS, который был дан для соревнования. Сперва нужно его предобработать, эта часть повторяет то, что было на семинаре. \n",
    "\n",
    "Датасет необходимо скачать: https://ods.ai/competitions/competition-recsys-21/data\n",
    "\n",
    "Оттуда нужны файлы `interactions.csv` и `items.csv`\n",
    "\n",
    "Каждое задание весит **1 балл**, если выполнено полностью и без ошибок, **0 баллов** ставится при наличии хотя бы 1 ошибки. Максимальная оценка - **10 баллов**. Шаблоны функций и классов можно менять по своему усмотрению."
   ]
  },
  {
   "cell_type": "code",
   "execution_count": 3,
   "id": "02af9415-838f-446e-80ed-f6083cc9cb27",
   "metadata": {
    "colab": {
     "base_uri": "https://localhost:8080/",
     "height": 206
    },
    "id": "02af9415-838f-446e-80ed-f6083cc9cb27",
    "outputId": "38e0880c-09b1-4b18-9477-6fc6d0ca0990"
   },
   "outputs": [
    {
     "data": {
      "text/html": [
       "<div>\n",
       "<style scoped>\n",
       "    .dataframe tbody tr th:only-of-type {\n",
       "        vertical-align: middle;\n",
       "    }\n",
       "\n",
       "    .dataframe tbody tr th {\n",
       "        vertical-align: top;\n",
       "    }\n",
       "\n",
       "    .dataframe thead th {\n",
       "        text-align: right;\n",
       "    }\n",
       "</style>\n",
       "<table border=\"1\" class=\"dataframe\">\n",
       "  <thead>\n",
       "    <tr style=\"text-align: right;\">\n",
       "      <th></th>\n",
       "      <th>user_id</th>\n",
       "      <th>item_id</th>\n",
       "      <th>last_watch_dt</th>\n",
       "      <th>total_dur</th>\n",
       "      <th>watched_pct</th>\n",
       "    </tr>\n",
       "  </thead>\n",
       "  <tbody>\n",
       "    <tr>\n",
       "      <th>0</th>\n",
       "      <td>176549</td>\n",
       "      <td>9506</td>\n",
       "      <td>2021-05-11</td>\n",
       "      <td>4250</td>\n",
       "      <td>72.0</td>\n",
       "    </tr>\n",
       "    <tr>\n",
       "      <th>1</th>\n",
       "      <td>699317</td>\n",
       "      <td>1659</td>\n",
       "      <td>2021-05-29</td>\n",
       "      <td>8317</td>\n",
       "      <td>100.0</td>\n",
       "    </tr>\n",
       "    <tr>\n",
       "      <th>2</th>\n",
       "      <td>656683</td>\n",
       "      <td>7107</td>\n",
       "      <td>2021-05-09</td>\n",
       "      <td>10</td>\n",
       "      <td>0.0</td>\n",
       "    </tr>\n",
       "    <tr>\n",
       "      <th>3</th>\n",
       "      <td>864613</td>\n",
       "      <td>7638</td>\n",
       "      <td>2021-07-05</td>\n",
       "      <td>14483</td>\n",
       "      <td>100.0</td>\n",
       "    </tr>\n",
       "    <tr>\n",
       "      <th>4</th>\n",
       "      <td>964868</td>\n",
       "      <td>9506</td>\n",
       "      <td>2021-04-30</td>\n",
       "      <td>6725</td>\n",
       "      <td>100.0</td>\n",
       "    </tr>\n",
       "  </tbody>\n",
       "</table>\n",
       "</div>"
      ],
      "text/plain": [
       "   user_id  item_id last_watch_dt  total_dur  watched_pct\n",
       "0   176549     9506    2021-05-11       4250         72.0\n",
       "1   699317     1659    2021-05-29       8317        100.0\n",
       "2   656683     7107    2021-05-09         10          0.0\n",
       "3   864613     7638    2021-07-05      14483        100.0\n",
       "4   964868     9506    2021-04-30       6725        100.0"
      ]
     },
     "execution_count": 3,
     "metadata": {},
     "output_type": "execute_result"
    }
   ],
   "source": [
    "df = pd.read_csv('interactions.csv').iloc[:-1]\n",
    "df.head()"
   ]
  },
  {
   "cell_type": "code",
   "execution_count": 4,
   "id": "78153b4e-975b-4493-95e7-e503f7c68757",
   "metadata": {
    "colab": {
     "base_uri": "https://localhost:8080/",
     "height": 206
    },
    "id": "78153b4e-975b-4493-95e7-e503f7c68757",
    "outputId": "d4cdad47-aca2-4140-bf48-511b57b6ca9e"
   },
   "outputs": [
    {
     "data": {
      "text/html": [
       "<div>\n",
       "<style scoped>\n",
       "    .dataframe tbody tr th:only-of-type {\n",
       "        vertical-align: middle;\n",
       "    }\n",
       "\n",
       "    .dataframe tbody tr th {\n",
       "        vertical-align: top;\n",
       "    }\n",
       "\n",
       "    .dataframe thead th {\n",
       "        text-align: right;\n",
       "    }\n",
       "</style>\n",
       "<table border=\"1\" class=\"dataframe\">\n",
       "  <thead>\n",
       "    <tr style=\"text-align: right;\">\n",
       "      <th></th>\n",
       "      <th>user_id</th>\n",
       "      <th>item_id</th>\n",
       "      <th>last_watch_dt</th>\n",
       "      <th>total_dur</th>\n",
       "      <th>watched_pct</th>\n",
       "    </tr>\n",
       "  </thead>\n",
       "  <tbody>\n",
       "    <tr>\n",
       "      <th>283386</th>\n",
       "      <td>786728</td>\n",
       "      <td>11322</td>\n",
       "      <td>58</td>\n",
       "      <td>578</td>\n",
       "      <td>11.0</td>\n",
       "    </tr>\n",
       "    <tr>\n",
       "      <th>915385</th>\n",
       "      <td>635875</td>\n",
       "      <td>13865</td>\n",
       "      <td>92</td>\n",
       "      <td>11436</td>\n",
       "      <td>100.0</td>\n",
       "    </tr>\n",
       "    <tr>\n",
       "      <th>3547324</th>\n",
       "      <td>224613</td>\n",
       "      <td>9342</td>\n",
       "      <td>130</td>\n",
       "      <td>21725</td>\n",
       "      <td>100.0</td>\n",
       "    </tr>\n",
       "    <tr>\n",
       "      <th>4996435</th>\n",
       "      <td>401704</td>\n",
       "      <td>3734</td>\n",
       "      <td>133</td>\n",
       "      <td>5428</td>\n",
       "      <td>100.0</td>\n",
       "    </tr>\n",
       "    <tr>\n",
       "      <th>1459469</th>\n",
       "      <td>544899</td>\n",
       "      <td>3734</td>\n",
       "      <td>108</td>\n",
       "      <td>5967</td>\n",
       "      <td>100.0</td>\n",
       "    </tr>\n",
       "  </tbody>\n",
       "</table>\n",
       "</div>"
      ],
      "text/plain": [
       "         user_id  item_id  last_watch_dt  total_dur  watched_pct\n",
       "283386    786728    11322             58        578         11.0\n",
       "915385    635875    13865             92      11436        100.0\n",
       "3547324   224613     9342            130      21725        100.0\n",
       "4996435   401704     3734            133       5428        100.0\n",
       "1459469   544899     3734            108       5967        100.0"
      ]
     },
     "execution_count": 4,
     "metadata": {},
     "output_type": "execute_result"
    }
   ],
   "source": [
    "df['last_watch_dt'] = (pd.to_datetime(df['last_watch_dt']) - pd.to_datetime(df['last_watch_dt']).min())\n",
    "df['last_watch_dt'] = df.last_watch_dt.apply(lambda x: int(str(x).split()[0]))\n",
    "df.sample(5)"
   ]
  },
  {
   "cell_type": "markdown",
   "id": "DnuIUsrRj0Tk",
   "metadata": {
    "id": "DnuIUsrRj0Tk"
   },
   "source": [
    "Сделаем разбиение по времени"
   ]
  },
  {
   "cell_type": "code",
   "execution_count": 5,
   "id": "1a0df672-7a64-4ba7-aea2-9aed9c13ecb6",
   "metadata": {
    "colab": {
     "base_uri": "https://localhost:8080/",
     "height": 447
    },
    "id": "1a0df672-7a64-4ba7-aea2-9aed9c13ecb6",
    "outputId": "6991b14a-91a5-4f3a-8f28-c5914132839a"
   },
   "outputs": [
    {
     "data": {
      "text/plain": [
       "<Axes: >"
      ]
     },
     "execution_count": 5,
     "metadata": {},
     "output_type": "execute_result"
    },
    {
     "data": {
      "image/png": "[encoded data removed]",
      "text/plain": [
       "<Figure size 640x480 with 1 Axes>"
      ]
     },
     "metadata": {},
     "output_type": "display_data"
    }
   ],
   "source": [
    "df.last_watch_dt.hist(bins=50)"
   ]
  },
  {
   "cell_type": "code",
   "execution_count": 6,
   "id": "1017b62e-68ce-4bfb-b44f-9e1b391aa08b",
   "metadata": {
    "colab": {
     "base_uri": "https://localhost:8080/"
    },
    "id": "1017b62e-68ce-4bfb-b44f-9e1b391aa08b",
    "outputId": "730db660-a2f0-4f12-f54c-b794f299a41b"
   },
   "outputs": [
    {
     "name": "stdout",
     "output_type": "stream",
     "text": [
      "число людей и там и там:  134670\n",
      "число людей всего: 880449\n"
     ]
    }
   ],
   "source": [
    "train_df = df.loc[(df.last_watch_dt < 160-7)].copy()\n",
    "test_df = df.loc[(df.last_watch_dt >= 160-7)].copy()\n",
    "\n",
    "train_users = train_df.user_id.unique()\n",
    "test_users = test_df.user_id.unique()\n",
    "\n",
    "all_included = np.intersect1d(train_users, test_users)\n",
    "\n",
    "print('число людей и там и там: ', all_included.shape[0])\n",
    "print('число людей всего:', train_users.shape[0])"
   ]
  },
  {
   "cell_type": "code",
   "execution_count": 7,
   "id": "8f30d288-bdd7-4304-81ef-61c3b9b75ac9",
   "metadata": {
    "colab": {
     "base_uri": "https://localhost:8080/"
    },
    "id": "8f30d288-bdd7-4304-81ef-61c3b9b75ac9",
    "outputId": "56b765fb-2bfb-47e1-bf06-c594bde79921"
   },
   "outputs": [
    {
     "data": {
      "text/plain": [
       "0.37768022181146027"
      ]
     },
     "execution_count": 7,
     "metadata": {},
     "output_type": "execute_result"
    }
   ],
   "source": [
    "len(set(test_users) - set(train_users)) / len(test_users)"
   ]
  },
  {
   "cell_type": "markdown",
   "id": "de1eb6f2-f78c-4403-aebd-a0561a049360",
   "metadata": {
    "id": "de1eb6f2-f78c-4403-aebd-a0561a049360"
   },
   "source": [
    "И переведём всё к соединённому датасету:"
   ]
  },
  {
   "cell_type": "code",
   "execution_count": 8,
   "id": "3686c2f1-9a9b-4684-b3d3-06c891252549",
   "metadata": {
    "id": "3686c2f1-9a9b-4684-b3d3-06c891252549"
   },
   "outputs": [],
   "source": [
    "n_users = 10000\n",
    "\n",
    "all_included = np.random.choice(all_included, size=n_users, replace=False)\n",
    "\n",
    "train_df = train_df.loc[train_df.user_id.isin(all_included)].copy()\n",
    "test_df = test_df.loc[test_df.user_id.isin(all_included)].copy()\n",
    "\n",
    "assert train_df.last_watch_dt.max() < test_df.last_watch_dt.min()\n",
    "assert train_df.user_id.nunique() == n_users\n",
    "assert test_df.user_id.nunique() == n_users"
   ]
  },
  {
   "cell_type": "code",
   "execution_count": 9,
   "id": "1c995549-bc88-4af3-a8ce-ca19baa30ee2",
   "metadata": {
    "colab": {
     "base_uri": "https://localhost:8080/",
     "height": 206
    },
    "id": "1c995549-bc88-4af3-a8ce-ca19baa30ee2",
    "outputId": "b0e5cd25-3f51-457a-808f-ccd23a4c677d"
   },
   "outputs": [
    {
     "data": {
      "text/html": [
       "<div>\n",
       "<style scoped>\n",
       "    .dataframe tbody tr th:only-of-type {\n",
       "        vertical-align: middle;\n",
       "    }\n",
       "\n",
       "    .dataframe tbody tr th {\n",
       "        vertical-align: top;\n",
       "    }\n",
       "\n",
       "    .dataframe thead th {\n",
       "        text-align: right;\n",
       "    }\n",
       "</style>\n",
       "<table border=\"1\" class=\"dataframe\">\n",
       "  <thead>\n",
       "    <tr style=\"text-align: right;\">\n",
       "      <th></th>\n",
       "      <th>user_id</th>\n",
       "      <th>item_id</th>\n",
       "      <th>last_watch_dt</th>\n",
       "      <th>total_dur</th>\n",
       "      <th>watched_pct</th>\n",
       "    </tr>\n",
       "  </thead>\n",
       "  <tbody>\n",
       "    <tr>\n",
       "      <th>78</th>\n",
       "      <td>94135</td>\n",
       "      <td>1819</td>\n",
       "      <td>20</td>\n",
       "      <td>802</td>\n",
       "      <td>12.0</td>\n",
       "    </tr>\n",
       "    <tr>\n",
       "      <th>121</th>\n",
       "      <td>538575</td>\n",
       "      <td>11332</td>\n",
       "      <td>98</td>\n",
       "      <td>71721</td>\n",
       "      <td>100.0</td>\n",
       "    </tr>\n",
       "    <tr>\n",
       "      <th>144</th>\n",
       "      <td>196855</td>\n",
       "      <td>11754</td>\n",
       "      <td>148</td>\n",
       "      <td>86</td>\n",
       "      <td>1.0</td>\n",
       "    </tr>\n",
       "    <tr>\n",
       "      <th>160</th>\n",
       "      <td>59968</td>\n",
       "      <td>3734</td>\n",
       "      <td>146</td>\n",
       "      <td>9445</td>\n",
       "      <td>100.0</td>\n",
       "    </tr>\n",
       "    <tr>\n",
       "      <th>189</th>\n",
       "      <td>969875</td>\n",
       "      <td>372</td>\n",
       "      <td>122</td>\n",
       "      <td>567</td>\n",
       "      <td>12.0</td>\n",
       "    </tr>\n",
       "  </tbody>\n",
       "</table>\n",
       "</div>"
      ],
      "text/plain": [
       "     user_id  item_id  last_watch_dt  total_dur  watched_pct\n",
       "78     94135     1819             20        802         12.0\n",
       "121   538575    11332             98      71721        100.0\n",
       "144   196855    11754            148         86          1.0\n",
       "160    59968     3734            146       9445        100.0\n",
       "189   969875      372            122        567         12.0"
      ]
     },
     "execution_count": 9,
     "metadata": {},
     "output_type": "execute_result"
    }
   ],
   "source": [
    "train_df.head()"
   ]
  },
  {
   "cell_type": "code",
   "execution_count": 10,
   "id": "4a1e9f17-02e9-4c7f-aa54-4a331b7244b2",
   "metadata": {
    "colab": {
     "base_uri": "https://localhost:8080/",
     "height": 206
    },
    "id": "4a1e9f17-02e9-4c7f-aa54-4a331b7244b2",
    "outputId": "6210ca52-f2a5-4594-d20f-8e17a3a27046"
   },
   "outputs": [
    {
     "name": "stderr",
     "output_type": "stream",
     "text": [
      "/var/folders/5q/dr1_wwq51175s4qj4dnxgsz80000gn/T/ipykernel_65623/1105526701.py:1: DeprecationWarning: DataFrameGroupBy.apply operated on the grouping columns. This behavior is deprecated, and in a future version of pandas the grouping columns will be excluded from the operation. Either pass `include_groups=False` to exclude the groupings or explicitly select the grouping columns after groupby to silence this warning.\n",
      "  train_grouped = train_df.groupby('user_id').apply(\n",
      "/var/folders/5q/dr1_wwq51175s4qj4dnxgsz80000gn/T/ipykernel_65623/1105526701.py:7: DeprecationWarning: DataFrameGroupBy.apply operated on the grouping columns. This behavior is deprecated, and in a future version of pandas the grouping columns will be excluded from the operation. Either pass `include_groups=False` to exclude the groupings or explicitly select the grouping columns after groupby to silence this warning.\n",
      "  test_grouped = test_df.groupby('user_id').apply(\n"
     ]
    },
    {
     "data": {
      "text/html": [
       "<div>\n",
       "<style scoped>\n",
       "    .dataframe tbody tr th:only-of-type {\n",
       "        vertical-align: middle;\n",
       "    }\n",
       "\n",
       "    .dataframe tbody tr th {\n",
       "        vertical-align: top;\n",
       "    }\n",
       "\n",
       "    .dataframe thead th {\n",
       "        text-align: right;\n",
       "    }\n",
       "</style>\n",
       "<table border=\"1\" class=\"dataframe\">\n",
       "  <thead>\n",
       "    <tr style=\"text-align: right;\">\n",
       "      <th></th>\n",
       "      <th>user_id</th>\n",
       "      <th>train_interactions</th>\n",
       "    </tr>\n",
       "  </thead>\n",
       "  <tbody>\n",
       "    <tr>\n",
       "      <th>0</th>\n",
       "      <td>47</td>\n",
       "      <td>[(13361, 138), (13865, 138), (7401, 142), (129...</td>\n",
       "    </tr>\n",
       "    <tr>\n",
       "      <th>1</th>\n",
       "      <td>229</td>\n",
       "      <td>[(11275, 110), (4151, 110), (1699, 126), (1460...</td>\n",
       "    </tr>\n",
       "    <tr>\n",
       "      <th>2</th>\n",
       "      <td>313</td>\n",
       "      <td>[(14170, 4), (162, 4), (8276, 6), (758, 14), (...</td>\n",
       "    </tr>\n",
       "    <tr>\n",
       "      <th>3</th>\n",
       "      <td>446</td>\n",
       "      <td>[(13865, 105)]</td>\n",
       "    </tr>\n",
       "    <tr>\n",
       "      <th>4</th>\n",
       "      <td>480</td>\n",
       "      <td>[(7389, 51), (9314, 51), (760, 55), (9709, 56)...</td>\n",
       "    </tr>\n",
       "  </tbody>\n",
       "</table>\n",
       "</div>"
      ],
      "text/plain": [
       "   user_id                                 train_interactions\n",
       "0       47  [(13361, 138), (13865, 138), (7401, 142), (129...\n",
       "1      229  [(11275, 110), (4151, 110), (1699, 126), (1460...\n",
       "2      313  [(14170, 4), (162, 4), (8276, 6), (758, 14), (...\n",
       "3      446                                     [(13865, 105)]\n",
       "4      480  [(7389, 51), (9314, 51), (760, 55), (9709, 56)..."
      ]
     },
     "execution_count": 10,
     "metadata": {},
     "output_type": "execute_result"
    }
   ],
   "source": [
    "train_grouped = train_df.groupby('user_id').apply(\n",
    "    lambda x: [(t1, t2) for t1, t2 in sorted(zip(x.item_id,\n",
    "                                                 x.last_watch_dt), key=lambda x: x[1])]\n",
    ").reset_index()\n",
    "train_grouped.rename({0:'train_interactions'}, axis=1, inplace=True)\n",
    "\n",
    "test_grouped = test_df.groupby('user_id').apply(\n",
    "    lambda x: [(t1, t2) for t1, t2 in sorted(zip(x.item_id,\n",
    "                                                         x.last_watch_dt), key=lambda x: x[1])]\n",
    ").reset_index()\n",
    "test_grouped.rename({0:'test_interactions'}, axis=1, inplace=True)\n",
    "\n",
    "train_grouped.head()"
   ]
  },
  {
   "cell_type": "code",
   "execution_count": 11,
   "id": "594ade13-ff8b-4ded-9c73-00ea48be4bd9",
   "metadata": {
    "colab": {
     "base_uri": "https://localhost:8080/",
     "height": 206
    },
    "id": "594ade13-ff8b-4ded-9c73-00ea48be4bd9",
    "outputId": "1e4c65ad-171a-497e-f65d-0af5bd96c90d"
   },
   "outputs": [
    {
     "data": {
      "text/html": [
       "<div>\n",
       "<style scoped>\n",
       "    .dataframe tbody tr th:only-of-type {\n",
       "        vertical-align: middle;\n",
       "    }\n",
       "\n",
       "    .dataframe tbody tr th {\n",
       "        vertical-align: top;\n",
       "    }\n",
       "\n",
       "    .dataframe thead th {\n",
       "        text-align: right;\n",
       "    }\n",
       "</style>\n",
       "<table border=\"1\" class=\"dataframe\">\n",
       "  <thead>\n",
       "    <tr style=\"text-align: right;\">\n",
       "      <th></th>\n",
       "      <th>user_id</th>\n",
       "      <th>train_interactions</th>\n",
       "      <th>test_interactions</th>\n",
       "    </tr>\n",
       "  </thead>\n",
       "  <tbody>\n",
       "    <tr>\n",
       "      <th>0</th>\n",
       "      <td>47</td>\n",
       "      <td>[(13361, 138), (13865, 138), (7401, 142), (129...</td>\n",
       "      <td>[(14488, 160)]</td>\n",
       "    </tr>\n",
       "    <tr>\n",
       "      <th>1</th>\n",
       "      <td>229</td>\n",
       "      <td>[(11275, 110), (4151, 110), (1699, 126), (1460...</td>\n",
       "      <td>[(14910, 153), (10440, 160), (3697, 161)]</td>\n",
       "    </tr>\n",
       "    <tr>\n",
       "      <th>2</th>\n",
       "      <td>313</td>\n",
       "      <td>[(14170, 4), (162, 4), (8276, 6), (758, 14), (...</td>\n",
       "      <td>[(9062, 156)]</td>\n",
       "    </tr>\n",
       "    <tr>\n",
       "      <th>3</th>\n",
       "      <td>446</td>\n",
       "      <td>[(13865, 105)]</td>\n",
       "      <td>[(12202, 160), (230, 160)]</td>\n",
       "    </tr>\n",
       "    <tr>\n",
       "      <th>4</th>\n",
       "      <td>480</td>\n",
       "      <td>[(7389, 51), (9314, 51), (760, 55), (9709, 56)...</td>\n",
       "      <td>[(7025, 161)]</td>\n",
       "    </tr>\n",
       "  </tbody>\n",
       "</table>\n",
       "</div>"
      ],
      "text/plain": [
       "   user_id                                 train_interactions  \\\n",
       "0       47  [(13361, 138), (13865, 138), (7401, 142), (129...   \n",
       "1      229  [(11275, 110), (4151, 110), (1699, 126), (1460...   \n",
       "2      313  [(14170, 4), (162, 4), (8276, 6), (758, 14), (...   \n",
       "3      446                                     [(13865, 105)]   \n",
       "4      480  [(7389, 51), (9314, 51), (760, 55), (9709, 56)...   \n",
       "\n",
       "                           test_interactions  \n",
       "0                             [(14488, 160)]  \n",
       "1  [(14910, 153), (10440, 160), (3697, 161)]  \n",
       "2                              [(9062, 156)]  \n",
       "3                 [(12202, 160), (230, 160)]  \n",
       "4                              [(7025, 161)]  "
      ]
     },
     "execution_count": 11,
     "metadata": {},
     "output_type": "execute_result"
    }
   ],
   "source": [
    "joined = train_grouped.merge(test_grouped)\n",
    "joined.head()"
   ]
  },
  {
   "cell_type": "code",
   "execution_count": 12,
   "id": "dd2ee6a6-914c-4f2d-91c8-c80bde97d84e",
   "metadata": {
    "colab": {
     "base_uri": "https://localhost:8080/",
     "height": 293
    },
    "id": "dd2ee6a6-914c-4f2d-91c8-c80bde97d84e",
    "outputId": "27bc3f05-b1b4-4bf8-de05-04ea850a7c28"
   },
   "outputs": [
    {
     "data": {
      "text/html": [
       "<div>\n",
       "<style scoped>\n",
       "    .dataframe tbody tr th:only-of-type {\n",
       "        vertical-align: middle;\n",
       "    }\n",
       "\n",
       "    .dataframe tbody tr th {\n",
       "        vertical-align: top;\n",
       "    }\n",
       "\n",
       "    .dataframe thead th {\n",
       "        text-align: right;\n",
       "    }\n",
       "</style>\n",
       "<table border=\"1\" class=\"dataframe\">\n",
       "  <thead>\n",
       "    <tr style=\"text-align: right;\">\n",
       "      <th></th>\n",
       "      <th>user_id</th>\n",
       "      <th>train_interactions</th>\n",
       "      <th>test_interactions</th>\n",
       "      <th>random_recs</th>\n",
       "    </tr>\n",
       "  </thead>\n",
       "  <tbody>\n",
       "    <tr>\n",
       "      <th>0</th>\n",
       "      <td>47</td>\n",
       "      <td>[(13361, 138), (13865, 138), (7401, 142), (129...</td>\n",
       "      <td>[(14488, 160)]</td>\n",
       "      <td>[8002, 1660, 4942]</td>\n",
       "    </tr>\n",
       "    <tr>\n",
       "      <th>1</th>\n",
       "      <td>229</td>\n",
       "      <td>[(11275, 110), (4151, 110), (1699, 126), (1460...</td>\n",
       "      <td>[(14910, 153), (10440, 160), (3697, 161)]</td>\n",
       "      <td>[8002, 1660, 4942]</td>\n",
       "    </tr>\n",
       "    <tr>\n",
       "      <th>2</th>\n",
       "      <td>313</td>\n",
       "      <td>[(14170, 4), (162, 4), (8276, 6), (758, 14), (...</td>\n",
       "      <td>[(9062, 156)]</td>\n",
       "      <td>[8002, 1660, 4942]</td>\n",
       "    </tr>\n",
       "    <tr>\n",
       "      <th>3</th>\n",
       "      <td>446</td>\n",
       "      <td>[(13865, 105)]</td>\n",
       "      <td>[(12202, 160), (230, 160)]</td>\n",
       "      <td>[8002, 1660, 4942]</td>\n",
       "    </tr>\n",
       "    <tr>\n",
       "      <th>4</th>\n",
       "      <td>480</td>\n",
       "      <td>[(7389, 51), (9314, 51), (760, 55), (9709, 56)...</td>\n",
       "      <td>[(7025, 161)]</td>\n",
       "      <td>[8002, 1660, 4942]</td>\n",
       "    </tr>\n",
       "  </tbody>\n",
       "</table>\n",
       "</div>"
      ],
      "text/plain": [
       "   user_id                                 train_interactions  \\\n",
       "0       47  [(13361, 138), (13865, 138), (7401, 142), (129...   \n",
       "1      229  [(11275, 110), (4151, 110), (1699, 126), (1460...   \n",
       "2      313  [(14170, 4), (162, 4), (8276, 6), (758, 14), (...   \n",
       "3      446                                     [(13865, 105)]   \n",
       "4      480  [(7389, 51), (9314, 51), (760, 55), (9709, 56)...   \n",
       "\n",
       "                           test_interactions         random_recs  \n",
       "0                             [(14488, 160)]  [8002, 1660, 4942]  \n",
       "1  [(14910, 153), (10440, 160), (3697, 161)]  [8002, 1660, 4942]  \n",
       "2                              [(9062, 156)]  [8002, 1660, 4942]  \n",
       "3                 [(12202, 160), (230, 160)]  [8002, 1660, 4942]  \n",
       "4                              [(7025, 161)]  [8002, 1660, 4942]  "
      ]
     },
     "execution_count": 12,
     "metadata": {},
     "output_type": "execute_result"
    }
   ],
   "source": [
    "np.random.seed(777)\n",
    "\n",
    "class Random:\n",
    "\n",
    "    def __init__(self):\n",
    "\n",
    "        self.trained = False\n",
    "\n",
    "    def fit(self, df, col='train_interactions'):\n",
    "\n",
    "        items = set()\n",
    "        for _, row in df.iterrows():\n",
    "            for item, _ in row[col]:\n",
    "                items.add(item)\n",
    "\n",
    "        self.items = list(items)\n",
    "        self.trained = True\n",
    "\n",
    "    def predict(self, df, topn=10):\n",
    "        assert self.trained\n",
    "        return [np.random.choice(self.items, replace=False, size=topn)]*len(df)\n",
    "\n",
    "\n",
    "random = Random()\n",
    "random.fit(joined)\n",
    "\n",
    "joined['random_recs'] = random.predict(joined, topn=3)\n",
    "joined.head()"
   ]
  },
  {
   "cell_type": "markdown",
   "id": "30934f45-28dc-41d3-9263-e93ca0dabb1b",
   "metadata": {
    "id": "30934f45-28dc-41d3-9263-e93ca0dabb1b"
   },
   "source": [
    "**Задание №1. Метрики и бейзлайны**\n",
    "\n",
    "Добавьте реализацию метрик AP, RR, HR, их усреднённые версии по $U$ мы посчитаем ниже, если следовать коду с семинара, поэтому формулы немного отличаются. За имплементацию с циклами балл будет снижаться, векторизуйте! ( ͡° ͜ʖ ͡°)"
   ]
  },
  {
   "cell_type": "markdown",
   "id": "mgj_xY1Vc5b8",
   "metadata": {
    "id": "mgj_xY1Vc5b8"
   },
   "source": [
    "$$\n",
    "AP_u@k = \\frac{1}{\\min(k, n_u)} \\sum_{i=1}^k r_u(i) p_u@i\n",
    "$$\n",
    "$$\n",
    "p_u@k = \\dfrac{1}{k}\\sum_{j=1}^k r_u(j)\n",
    "$$\n",
    "$$\n",
    "RR@k = \\dfrac{1}{\\text{rank}_i@k}\n",
    "$$\n",
    "$$\n",
    "HR@k = [\\exists \\ y_i = 1 \\ \\text{among k preds}]\n",
    "$$\n",
    "\n",
    "\n",
    "*   $n_u$ - число айтемов, с которыми взаимодействовал юзер $u$\n",
    "*   $y_i$ - релевантно ли $i$-ое предсказание, $y_i \\in \\{0,1\\}$\n",
    "* $\\text{rank}_i@k$ - позиция первого релеваннтого айтема среди первых $k$ предсказаний\n",
    "* HR@k - среди первых $k$ предсказаний есть хотя бы одно релевантное\n",
    "\n",
    "Считайте, что если `topn` не задано, то берётся всегда $n_u$. "
   ]
  },
  {
   "cell_type": "code",
   "execution_count": 17,
   "id": "60c1459f-7341-416f-94c7-55f30253e217",
   "metadata": {
    "id": "60c1459f-7341-416f-94c7-55f30253e217"
   },
   "outputs": [],
   "source": [
    "def ap_metric(\n",
    "    gt_items: List[int],\n",
    "    predictions: List[int],\n",
    "    topn: Optional[int]=None\n",
    "):\n",
    "    if topn is None:\n",
    "        topn = len(predictions)\n",
    "    predictions = predictions[:topn]\n",
    "    y = np.isin(predictions, gt_items)\n",
    "    p = y.cumsum() / np.arange(1, len(y) + 1)\n",
    "    return (p * y).sum() / min(topn, len(gt_items))\n",
    "\n",
    "def rr_metric(\n",
    "    gt_items: List[int],\n",
    "    predictions: List[int],\n",
    "    topn: Optional[int]=None\n",
    "):\n",
    "    if topn is None:\n",
    "        topn = len(predictions)\n",
    "    predictions = predictions[:topn]\n",
    "    y = np.isin(predictions, gt_items)\n",
    "    inds = np.where(y == 1)[0]\n",
    "    if inds.size == 0:\n",
    "        return 0\n",
    "    return 1 / (inds[0] + 1)\n",
    "\n",
    "def hr_metric(\n",
    "    gt_items: List[int],\n",
    "    predictions: List[int],\n",
    "    topn: Optional[int]=None\n",
    "):\n",
    "    if topn is None:\n",
    "        topn = len(predictions)\n",
    "    predictions = predictions[:topn]\n",
    "    y = np.isin(predictions, gt_items)\n",
    "    return y.sum() > 0\n"
   ]
  },
  {
   "cell_type": "markdown",
   "id": "k83GlXGhMt6P",
   "metadata": {
    "id": "k83GlXGhMt6P"
   },
   "source": [
    "Для вашего удобства в файле `metric_tests.py` есть тесты, но хардкодить их, разумеется, не стоит. "
   ]
  },
  {
   "cell_type": "code",
   "execution_count": 18,
   "id": "xtqG_ri3MSO2",
   "metadata": {
    "id": "xtqG_ri3MSO2"
   },
   "outputs": [],
   "source": [
    "run_tests(ap_metric, rr_metric, hr_metric)"
   ]
  },
  {
   "cell_type": "markdown",
   "id": "di3dR9-mM34j",
   "metadata": {
    "id": "di3dR9-mM34j"
   },
   "source": [
    "В следующей ячейке код, который считает и усредняет метрики по юзерам. Он взят с семинара, при желании можно его тоже модифицировать, например, векторизовать. "
   ]
  },
  {
   "cell_type": "code",
   "execution_count": 19,
   "id": "YHz9p4SOg6eN",
   "metadata": {
    "id": "YHz9p4SOg6eN"
   },
   "outputs": [],
   "source": [
    "def evaluate_recommender(df, model_preds, gt_col='test_interactions'):\n",
    "\n",
    "    metric_values = []\n",
    "\n",
    "    for idx, row in df.iterrows():\n",
    "        gt_items = [x[0] for x in row[gt_col]]\n",
    "        predictions = row[model_preds]\n",
    "\n",
    "        ap = ap_metric(gt_items, predictions)\n",
    "        rr = rr_metric(gt_items, predictions)\n",
    "        hr = hr_metric(gt_items, predictions)\n",
    "\n",
    "        metric_values.append((ap, rr, hr))\n",
    "\n",
    "    return {'map': np.mean([x[0] for x in metric_values]),\n",
    "            'mrr': np.mean([x[1] for x in metric_values]),\n",
    "            'hr': np.mean([x[2] for x in metric_values])}"
   ]
  },
  {
   "cell_type": "markdown",
   "id": "HHwUiR0BNOqB",
   "metadata": {
    "id": "HHwUiR0BNOqB"
   },
   "source": [
    "Если вы всё сделали правильно, рандомные предсказания должны дать хоть какое-то качество, но не очень большое."
   ]
  },
  {
   "cell_type": "code",
   "execution_count": 20,
   "id": "107b24e3-00d0-4466-be0f-3377d34c83a0",
   "metadata": {
    "id": "107b24e3-00d0-4466-be0f-3377d34c83a0"
   },
   "outputs": [
    {
     "data": {
      "text/plain": [
       "{'map': 0.0010777777777777778, 'mrr': 0.002533333333333333, 'hr': 0.0027}"
      ]
     },
     "execution_count": 20,
     "metadata": {},
     "output_type": "execute_result"
    }
   ],
   "source": [
    "evaluate_recommender(joined, model_preds='random_recs')"
   ]
  },
  {
   "cell_type": "code",
   "execution_count": 21,
   "id": "ac8d261e-1b5f-4894-93db-eb9eb414bfd1",
   "metadata": {
    "colab": {
     "base_uri": "https://localhost:8080/",
     "height": 379
    },
    "id": "ac8d261e-1b5f-4894-93db-eb9eb414bfd1",
    "outputId": "808e1eec-48d3-40f8-809f-a51c3b3b7fd6"
   },
   "outputs": [
    {
     "data": {
      "text/html": [
       "<div>\n",
       "<style scoped>\n",
       "    .dataframe tbody tr th:only-of-type {\n",
       "        vertical-align: middle;\n",
       "    }\n",
       "\n",
       "    .dataframe tbody tr th {\n",
       "        vertical-align: top;\n",
       "    }\n",
       "\n",
       "    .dataframe thead th {\n",
       "        text-align: right;\n",
       "    }\n",
       "</style>\n",
       "<table border=\"1\" class=\"dataframe\">\n",
       "  <thead>\n",
       "    <tr style=\"text-align: right;\">\n",
       "      <th></th>\n",
       "      <th>user_id</th>\n",
       "      <th>train_interactions</th>\n",
       "      <th>test_interactions</th>\n",
       "      <th>random_recs</th>\n",
       "      <th>toppopular_recs</th>\n",
       "    </tr>\n",
       "  </thead>\n",
       "  <tbody>\n",
       "    <tr>\n",
       "      <th>0</th>\n",
       "      <td>47</td>\n",
       "      <td>[(13361, 138), (13865, 138), (7401, 142), (129...</td>\n",
       "      <td>[(14488, 160)]</td>\n",
       "      <td>[8002, 1660, 4942]</td>\n",
       "      <td>[10440, 15297, 9728, 13865, 3734, 4151, 4880, ...</td>\n",
       "    </tr>\n",
       "    <tr>\n",
       "      <th>1</th>\n",
       "      <td>229</td>\n",
       "      <td>[(11275, 110), (4151, 110), (1699, 126), (1460...</td>\n",
       "      <td>[(14910, 153), (10440, 160), (3697, 161)]</td>\n",
       "      <td>[8002, 1660, 4942]</td>\n",
       "      <td>[10440, 15297, 9728, 13865, 3734, 4151, 4880, ...</td>\n",
       "    </tr>\n",
       "    <tr>\n",
       "      <th>2</th>\n",
       "      <td>313</td>\n",
       "      <td>[(14170, 4), (162, 4), (8276, 6), (758, 14), (...</td>\n",
       "      <td>[(9062, 156)]</td>\n",
       "      <td>[8002, 1660, 4942]</td>\n",
       "      <td>[10440, 15297, 9728, 13865, 3734, 4151, 4880, ...</td>\n",
       "    </tr>\n",
       "    <tr>\n",
       "      <th>3</th>\n",
       "      <td>446</td>\n",
       "      <td>[(13865, 105)]</td>\n",
       "      <td>[(12202, 160), (230, 160)]</td>\n",
       "      <td>[8002, 1660, 4942]</td>\n",
       "      <td>[10440, 15297, 9728, 13865, 3734, 4151, 4880, ...</td>\n",
       "    </tr>\n",
       "    <tr>\n",
       "      <th>4</th>\n",
       "      <td>480</td>\n",
       "      <td>[(7389, 51), (9314, 51), (760, 55), (9709, 56)...</td>\n",
       "      <td>[(7025, 161)]</td>\n",
       "      <td>[8002, 1660, 4942]</td>\n",
       "      <td>[10440, 15297, 9728, 13865, 3734, 4151, 4880, ...</td>\n",
       "    </tr>\n",
       "  </tbody>\n",
       "</table>\n",
       "</div>"
      ],
      "text/plain": [
       "   user_id                                 train_interactions  \\\n",
       "0       47  [(13361, 138), (13865, 138), (7401, 142), (129...   \n",
       "1      229  [(11275, 110), (4151, 110), (1699, 126), (1460...   \n",
       "2      313  [(14170, 4), (162, 4), (8276, 6), (758, 14), (...   \n",
       "3      446                                     [(13865, 105)]   \n",
       "4      480  [(7389, 51), (9314, 51), (760, 55), (9709, 56)...   \n",
       "\n",
       "                           test_interactions         random_recs  \\\n",
       "0                             [(14488, 160)]  [8002, 1660, 4942]   \n",
       "1  [(14910, 153), (10440, 160), (3697, 161)]  [8002, 1660, 4942]   \n",
       "2                              [(9062, 156)]  [8002, 1660, 4942]   \n",
       "3                 [(12202, 160), (230, 160)]  [8002, 1660, 4942]   \n",
       "4                              [(7025, 161)]  [8002, 1660, 4942]   \n",
       "\n",
       "                                     toppopular_recs  \n",
       "0  [10440, 15297, 9728, 13865, 3734, 4151, 4880, ...  \n",
       "1  [10440, 15297, 9728, 13865, 3734, 4151, 4880, ...  \n",
       "2  [10440, 15297, 9728, 13865, 3734, 4151, 4880, ...  \n",
       "3  [10440, 15297, 9728, 13865, 3734, 4151, 4880, ...  \n",
       "4  [10440, 15297, 9728, 13865, 3734, 4151, 4880, ...  "
      ]
     },
     "execution_count": 21,
     "metadata": {},
     "output_type": "execute_result"
    }
   ],
   "source": [
    "class TopPopular:\n",
    "\n",
    "    def __init__(self):\n",
    "\n",
    "        self.trained = False\n",
    "\n",
    "    def fit(self, df, col='train_interactions'):\n",
    "\n",
    "        counts = {}\n",
    "        for _, row in df.iterrows():\n",
    "            for item, _ in row[col]:\n",
    "                if item in counts:\n",
    "                    counts[item] += 1\n",
    "                else:\n",
    "                    counts[item] = 1\n",
    "\n",
    "        counts = sorted(counts.items(), key=lambda x: x[1], reverse=True)\n",
    "\n",
    "        self.recommenations = [x[0] for x in counts]\n",
    "        self.trained = True\n",
    "\n",
    "    def predict(self, df, topn=10)  -> List[np.ndarray]:\n",
    "\n",
    "        assert self.trained\n",
    "        return [self.recommenations[:topn]]*len(df)\n",
    "\n",
    "\n",
    "toppop = TopPopular()\n",
    "toppop.fit(joined)\n",
    "\n",
    "joined['toppopular_recs'] = toppop.predict(joined)\n",
    "joined.head()"
   ]
  },
  {
   "cell_type": "markdown",
   "id": "U6Yovxc4NbdO",
   "metadata": {
    "id": "U6Yovxc4NbdO"
   },
   "source": [
    "Самые популярные предсказания должны показать более высокое качество."
   ]
  },
  {
   "cell_type": "code",
   "execution_count": 22,
   "id": "dfd3c545-53f8-46a4-89b9-4cf61475599a",
   "metadata": {
    "id": "dfd3c545-53f8-46a4-89b9-4cf61475599a"
   },
   "outputs": [
    {
     "data": {
      "text/plain": [
       "{'map': 0.06583593143738976, 'mrr': 0.11511388888888889, 'hr': 0.2746}"
      ]
     },
     "execution_count": 22,
     "metadata": {},
     "output_type": "execute_result"
    }
   ],
   "source": [
    "evaluate_recommender(joined, model_preds='toppopular_recs')"
   ]
  },
  {
   "cell_type": "markdown",
   "id": "dcf7944e-962d-4206-8cfe-afa5162512b3",
   "metadata": {
    "id": "dcf7944e-962d-4206-8cfe-afa5162512b3"
   },
   "source": [
    "**Задание №2. Рекомендации в окне**\n",
    "\n",
    "Здесь необходимо переделать метод рекомендации по популярности так, что популярность считается только за какое-то более свежее временное окно. Под окном подразумевается какой-то временной промежуток, например, ближайший месяц. Соответственно, всё что за его пределами, не учитывается."
   ]
  },
  {
   "cell_type": "code",
   "execution_count": 23,
   "id": "4a01f209-5f6a-4643-9d1d-5fcec5598f28",
   "metadata": {
    "id": "4a01f209-5f6a-4643-9d1d-5fcec5598f28"
   },
   "outputs": [],
   "source": [
    "class TopPopularWeighted(TopPopular):\n",
    "\n",
    "    def __init__(self, min_window=2):\n",
    "        super().__init__()\n",
    "        self.min_window = min_window\n",
    "\n",
    "    def fit(self, df, col='train_interactions'):\n",
    "        counts = {}\n",
    "        for _, row in df.iterrows():\n",
    "            for item, time in row[col]:\n",
    "                if time >= 160 - 7 - self.min_window:\n",
    "                    if item in counts:\n",
    "                        counts[item] += 1\n",
    "                    else:\n",
    "                        counts[item] = 1\n",
    "\n",
    "        counts = sorted(counts.items(), key=lambda x: x[1], reverse=True)\n",
    "\n",
    "        self.recommenations = [x[0] for x in counts]\n",
    "        self.trained = True"
   ]
  },
  {
   "cell_type": "markdown",
   "id": "YKmJId7cOWh6",
   "metadata": {
    "id": "YKmJId7cOWh6"
   },
   "source": [
    "Теперь постройте графики зависимости значений трёх метрик (AP@k, RR@k, HR@k) от размера окна. "
   ]
  },
  {
   "cell_type": "code",
   "execution_count": 28,
   "id": "mdxBytDB8gkm",
   "metadata": {
    "id": "mdxBytDB8gkm"
   },
   "outputs": [],
   "source": [
    "maps = []\n",
    "mrrs = []\n",
    "hrs = []\n",
    "for min_window in range(1, 150):\n",
    "    toppop = TopPopularWeighted(min_window=min_window)\n",
    "    toppop.fit(joined)\n",
    "\n",
    "    joined['toppopularweighted_recs'] = toppop.predict(joined)\n",
    "    mets = evaluate_recommender(joined, model_preds='toppopularweighted_recs')\n",
    "    maps.append(mets['map'])\n",
    "    mrrs.append(mets['mrr'])\n",
    "    hrs.append(mets['hr'])"
   ]
  },
  {
   "cell_type": "code",
   "execution_count": 29,
   "id": "96dc95b6",
   "metadata": {},
   "outputs": [
    {
     "data": {
      "image/png": "[encoded data removed]",
      "text/plain": [
       "<Figure size 640x480 with 1 Axes>"
      ]
     },
     "metadata": {},
     "output_type": "display_data"
    }
   ],
   "source": [
    "plt.plot(list(range(1, 150)), maps)\n",
    "plt.plot(list(range(1, 150)), mrrs)\n",
    "plt.plot(list(range(1, 150)), hrs)\n",
    "plt.xlabel('window')\n",
    "plt.ylabel('metric value')\n",
    "plt.legend(['AP@k', 'RR@k', 'HR@k'])\n",
    "plt.show()"
   ]
  },
  {
   "cell_type": "markdown",
   "id": "b_0ke9aD9nkO",
   "metadata": {
    "id": "b_0ke9aD9nkO"
   },
   "source": [
    "Подумайте и ответьте, как размер окна влияет на качество рекомендаций. Какое значение наилучшее, есть ли у этого разумное объяснение?\n",
    "\n",
    "**Ответ:** На графике виден общий тренд того, что сначала при небольшом росте окна качество возрастает, а потом, при дальнейшем увеличении окна оно начинает падать. Это в целом отражает наше представление о том, как должны выглядеть рекомендации по популярным айтемам - не использовать те, что были популярны давно (в контексте нашего датасета свыше 60 дней назад), но также брать не только те, что популярны в последние несколько дней. Оптимальным значением, сюдя по графику, будет окно в районе 30 дней, то есть последний месяц."
   ]
  },
  {
   "cell_type": "markdown",
   "id": "1a112ae1-d5f3-4150-8df3-9155240a557a",
   "metadata": {
    "id": "1a112ae1-d5f3-4150-8df3-9155240a557a"
   },
   "source": [
    "**Задание №3. Метрики и k.**\n",
    "\n",
    "Постройте зависимость значений MAP@K, MRR@K, HR@K для метода рекомендации по популярности. Возьмите какие-нибудь k, например, от 1 до 100, переберите значения и покажите на линейном графике. "
   ]
  },
  {
   "cell_type": "code",
   "execution_count": 163,
   "id": "URxM6rRVP6Nu",
   "metadata": {
    "id": "URxM6rRVP6Nu"
   },
   "outputs": [],
   "source": [
    "toppop = TopPopular()\n",
    "toppop.fit(joined)\n",
    "joined['toppopular_recs'] = toppop.predict(joined, topn=100)"
   ]
  },
  {
   "cell_type": "code",
   "execution_count": 164,
   "id": "f4687ead-a7fa-4407-83f2-17c465d80f67",
   "metadata": {
    "id": "f4687ead-a7fa-4407-83f2-17c465d80f67"
   },
   "outputs": [],
   "source": [
    "def evaluate_recommender_topn(df, model_preds, gt_col='test_interactions', topn=None):\n",
    "\n",
    "    metric_values = []\n",
    "\n",
    "    for idx, row in df.iterrows():\n",
    "        gt_items = [x[0] for x in row[gt_col]]\n",
    "        predictions = row[model_preds]\n",
    "\n",
    "        ap = ap_metric(gt_items, predictions, topn)\n",
    "        rr = rr_metric(gt_items, predictions, topn)\n",
    "        hr = hr_metric(gt_items, predictions, topn)\n",
    "\n",
    "        metric_values.append((ap, rr, hr))\n",
    "\n",
    "    return {'map': np.mean([x[0] for x in metric_values]),\n",
    "            'mrr': np.mean([x[1] for x in metric_values]),\n",
    "            'hr': np.mean([x[2] for x in metric_values])}"
   ]
  },
  {
   "cell_type": "code",
   "execution_count": 171,
   "id": "57eaab9f",
   "metadata": {},
   "outputs": [],
   "source": [
    "maps = []\n",
    "mrrs = []\n",
    "hrs = []\n",
    "for k in range(1, 101):\n",
    "    mets = evaluate_recommender_topn(joined, model_preds='toppopular_recs', topn=k)\n",
    "    maps.append(mets['map'])\n",
    "    mrrs.append(mets['mrr'])\n",
    "    hrs.append(mets['hr'])"
   ]
  },
  {
   "cell_type": "code",
   "execution_count": 172,
   "id": "8dcdea34",
   "metadata": {},
   "outputs": [
    {
     "data": {
      "image/png": "[encoded data removed]",
      "text/plain": [
       "<Figure size 640x480 with 1 Axes>"
      ]
     },
     "metadata": {},
     "output_type": "display_data"
    }
   ],
   "source": [
    "plt.plot(list(range(1, 101)), maps)\n",
    "plt.plot(list(range(1, 101)), mrrs)\n",
    "plt.plot(list(range(1, 101)), hrs)\n",
    "plt.xlabel('k')\n",
    "plt.ylabel('metric value')\n",
    "plt.legend(['MAP@k', 'MRR@k', 'HR@k'])\n",
    "plt.show()"
   ]
  },
  {
   "cell_type": "markdown",
   "id": "e5696df8-243a-42a0-9bf4-44aac7474dd7",
   "metadata": {
    "id": "e5696df8-243a-42a0-9bf4-44aac7474dd7"
   },
   "source": [
    "Хорошенько подумайте и ответьте на вопросы ниже.\n",
    "\n",
    "3.1 Какие из метрик являются монотонными функциями по top-K? Объясните, почему они являются монотонными? \\\n",
    "**Ответ:** MRR@k и HR@k являются монотонными по определению, а MAP@k таковой не является, но ее график все же является монотонным: \n",
    "1) Для MAP@k - чем больше k, тем в среднем будет больше значение метрики, потому что если релевантные айтемы оказались не в начале, а top-K маленькое, то значение метрики будет 0. Поэтому увеличивая k, мы в среднем увеличиваем значение метрики. Да, оно может для конкретного случая и уменьшиться (например первые два айтема были релевантными, а дальше нет, т.е. сначала значение AP@k было 1, а потом стало уменьшаться при увеличении k), но так как таких случаев меньше, то в среднем значение метрики монотонно возрастает. \n",
    "\n",
    "2) Для MRR@k - монотонная по формуле, с увеличением k значение метрики может только увеличиваться. Не может быть такого, что релевантный элемент среди каких-то первых k айтемов был и значение метрики было больше 0, а среди k+1 первых айтемов его не будет и значение будет 0. Так же не может увеличиваться номер первого релевантного айтема.\n",
    "\n",
    "3) Для HR@k - практически аналогично предыдущему. Функция монотонно возрастает всегда. Если среди первых k айтемов есть хотя бы один релевантный, то при k+1 он тоже будет.\n",
    "\n",
    "3.2 Объясните по каждой метрике, как можно интерпретировать ее график? То есть, что можно сказать про связь изменения метрики c возможными пользовательскими сценариями, например,скроллингом ленты новостей. \\\n",
    "**Ответ:** \n",
    "1) Для MAP@k - если мы говорим про сценарий со скроллингом ленты, то тогда ее график отражает процент того, насколько релевантными оказались рекомендации в зависимости от того, сколько постов пользователь посмотрел в ленте. В среднем для всех пользователей, если они смотрят больше постов, то среди них будет больше релевантных\n",
    "\n",
    "2) Для MRR@k - график показывает, когда в среднем по всем пользователям им попадается первый релевантный пост, и чем больше постов в ленте они посмотрят, тем больше шанс, что этот первый пост будет среди просмотренных\n",
    "\n",
    "3) Для HR@k - график показывает какой части пользователей попался в ленте хотя бы один релевантный пост в зависимости от количества просмотренных\n",
    "\n",
    "3.3 Как вы думаете, почему графики выглядят именно так? Должны ли они возрастать/убывать, от чего это может зависеть? (Тут вам может помочь дополнительный анализ данных)\\\n",
    "**Ответ:**\n",
    "В случае MRR@k и HR@k графики выглядят так, как от них и ожидается, они монотонно возрастают по k так как это задано по определению и не зависит от внешних факторов. Они не будут возрастать только если среди рекомендаций вообще не будет релевантных и тогда метрики будут константным 0, но убывать они все так же не будут. В случае с MAP@k варианты могут быть разными. Рассмотрим крайние случаи - например, все релевантные айтемы находятся в конце предложенных рекомендаций, тогда график метрики будет возрастать, причем он будет 0 до момента появления первого релевантного айтема и потом начнет расти. В противоположном случае, когда релевантные айтемы находятся в начале предложенных рекомендаций, а за ними идут нерелевантные - тогда график наоборот будет убывать, в начале он будет 1 до момоента появления первого нерелевантного айтема и дальше начнет убывать. В нашем случае я предполагаю, что случаев, похожих на первый пример в нашей модели больше, поэтому график возрастающий, но не всегда это может быть так "
   ]
  },
  {
   "cell_type": "markdown",
   "id": "ab1e75f8-c9bb-4d59-9d57-9934161aa4c7",
   "metadata": {
    "id": "ab1e75f8-c9bb-4d59-9d57-9934161aa4c7"
   },
   "source": [
    "**Задание №4. Интерпретация рейтингов**\n",
    "\n",
    "Возьмите названия фильмов/сериалов из `items.csv`, выделите 5 различных сценариев изменения популярности у фильмов, аргументируйте (например, графиком или статистикой) и проинтерпретируейте их (почему популярность для этого фильма меняется так). Обратите внимание, что надо найти именно разные паттерны изменения вероятностей. "
   ]
  },
  {
   "cell_type": "code",
   "execution_count": 33,
   "id": "59205c4a-1779-4678-a79e-f7b7548f6988",
   "metadata": {
    "colab": {
     "base_uri": "https://localhost:8080/",
     "height": 206
    },
    "id": "59205c4a-1779-4678-a79e-f7b7548f6988",
    "outputId": "4210096a-7b1e-432e-e29e-cc6f6bd7d3cc"
   },
   "outputs": [
    {
     "data": {
      "text/html": [
       "<div>\n",
       "<style scoped>\n",
       "    .dataframe tbody tr th:only-of-type {\n",
       "        vertical-align: middle;\n",
       "    }\n",
       "\n",
       "    .dataframe tbody tr th {\n",
       "        vertical-align: top;\n",
       "    }\n",
       "\n",
       "    .dataframe thead th {\n",
       "        text-align: right;\n",
       "    }\n",
       "</style>\n",
       "<table border=\"1\" class=\"dataframe\">\n",
       "  <thead>\n",
       "    <tr style=\"text-align: right;\">\n",
       "      <th></th>\n",
       "      <th>item_id</th>\n",
       "      <th>title</th>\n",
       "    </tr>\n",
       "  </thead>\n",
       "  <tbody>\n",
       "    <tr>\n",
       "      <th>0</th>\n",
       "      <td>10711</td>\n",
       "      <td>Поговори с ней</td>\n",
       "    </tr>\n",
       "    <tr>\n",
       "      <th>1</th>\n",
       "      <td>2508</td>\n",
       "      <td>Голые перцы</td>\n",
       "    </tr>\n",
       "    <tr>\n",
       "      <th>2</th>\n",
       "      <td>10716</td>\n",
       "      <td>Тактическая сила</td>\n",
       "    </tr>\n",
       "    <tr>\n",
       "      <th>3</th>\n",
       "      <td>7868</td>\n",
       "      <td>45 лет</td>\n",
       "    </tr>\n",
       "    <tr>\n",
       "      <th>4</th>\n",
       "      <td>16268</td>\n",
       "      <td>Все решает мгновение</td>\n",
       "    </tr>\n",
       "  </tbody>\n",
       "</table>\n",
       "</div>"
      ],
      "text/plain": [
       "   item_id                 title\n",
       "0    10711        Поговори с ней\n",
       "1     2508           Голые перцы\n",
       "2    10716      Тактическая сила\n",
       "3     7868                45 лет\n",
       "4    16268  Все решает мгновение"
      ]
     },
     "execution_count": 33,
     "metadata": {},
     "output_type": "execute_result"
    }
   ],
   "source": [
    "items = pd.read_csv('items.csv')[['item_id','title']].copy()\n",
    "items.head()"
   ]
  },
  {
   "cell_type": "markdown",
   "id": "d5d18d06-ef56-45ef-a738-72150b094898",
   "metadata": {
    "id": "d5d18d06-ef56-45ef-a738-72150b094898"
   },
   "source": [
    "Пример:"
   ]
  },
  {
   "cell_type": "code",
   "execution_count": 34,
   "id": "bbf556fe-21d5-4210-b699-7090fa2fa178",
   "metadata": {
    "colab": {
     "base_uri": "https://localhost:8080/",
     "height": 465
    },
    "id": "bbf556fe-21d5-4210-b699-7090fa2fa178",
    "outputId": "eb2242ca-5bf9-4125-e597-cbc96412df4e"
   },
   "outputs": [
    {
     "name": "stdout",
     "output_type": "stream",
     "text": [
      "1917\n"
     ]
    },
    {
     "data": {
      "text/plain": [
       "<Axes: >"
      ]
     },
     "execution_count": 34,
     "metadata": {},
     "output_type": "execute_result"
    },
    {
     "data": {
      "image/png": "[encoded data removed]",
      "text/plain": [
       "<Figure size 640x480 with 1 Axes>"
      ]
     },
     "metadata": {},
     "output_type": "display_data"
    }
   ],
   "source": [
    "popular_items = df.item_id.value_counts()[:300].index.tolist()\n",
    "sampled_id = np.random.choice(popular_items)\n",
    "\n",
    "# это для примера, хотя выцеплять случаи по одному может быть не лучшей идеей\n",
    "sampled_id = 3402\n",
    "\n",
    "interactions = df.loc[df.item_id==sampled_id].copy()\n",
    "name = items.loc[items.item_id==sampled_id].title.values[0]\n",
    "print(name)\n",
    "interactions.last_watch_dt.hist()"
   ]
  },
  {
   "cell_type": "markdown",
   "id": "bf72e854-0b21-4891-ba5c-acbca999c3f1",
   "metadata": {
    "id": "bf72e854-0b21-4891-ba5c-acbca999c3f1"
   },
   "source": [
    "Фильм 1917 какое-то время набирал популярность, потом видим резкое падение (кстати, с какой даты?). Возможно, это связано с ограничением доступности этого фильма для части пользователей, периодом проката фильма / рекламной кампании или другой причиной. "
   ]
  },
  {
   "cell_type": "markdown",
   "id": "eb5ae2d4-8ddc-4593-b7a2-2cb5e8276e16",
   "metadata": {
    "id": "eb5ae2d4-8ddc-4593-b7a2-2cb5e8276e16"
   },
   "source": [
    "Добавьте 5 своих примеров ниже. Опишите, как вы их искали. "
   ]
  },
  {
   "cell_type": "markdown",
   "id": "9d048fab",
   "metadata": {},
   "source": [
    "Я искал примеры просто через random_choice как в ячейке выше и смотрел на графики"
   ]
  },
  {
   "cell_type": "code",
   "execution_count": 45,
   "id": "c36bf91b",
   "metadata": {},
   "outputs": [
    {
     "name": "stdout",
     "output_type": "stream",
     "text": [
      "В поисках Дори\n"
     ]
    },
    {
     "data": {
      "text/plain": [
       "<Axes: >"
      ]
     },
     "execution_count": 45,
     "metadata": {},
     "output_type": "execute_result"
    },
    {
     "data": {
      "image/png": "[encoded data removed]",
      "text/plain": [
       "<Figure size 640x480 with 1 Axes>"
      ]
     },
     "metadata": {},
     "output_type": "display_data"
    }
   ],
   "source": [
    "sampled_id = 10605\n",
    "interactions = df.loc[df.item_id==sampled_id].copy()\n",
    "name = items.loc[items.item_id==sampled_id].title.values[0]\n",
    "print(name)\n",
    "interactions.last_watch_dt.hist(bins=50)"
   ]
  },
  {
   "cell_type": "markdown",
   "id": "d841e292",
   "metadata": {},
   "source": [
    "По гистограмме видно, что сначала фильм не пользовался особой популярностью, потом в начале лета произошел скачок популярности, дальше небольшой спад и после середины лета снова произошел резкий скачок популярности. Возможно это связано с тем, что это мультфильм и летом, когда у детей каникулы, его смотрели больше, а также сам мультфильм про море и летнюю тематику, поэтому возможно из-за этого он показывал скачки именно летом."
   ]
  },
  {
   "cell_type": "code",
   "execution_count": 52,
   "id": "44739115",
   "metadata": {},
   "outputs": [
    {
     "name": "stdout",
     "output_type": "stream",
     "text": [
      "Убийство онлайн\n"
     ]
    },
    {
     "data": {
      "text/plain": [
       "<Axes: >"
      ]
     },
     "execution_count": 52,
     "metadata": {},
     "output_type": "execute_result"
    },
    {
     "data": {
      "image/png": "[encoded data removed]",
      "text/plain": [
       "<Figure size 640x480 with 1 Axes>"
      ]
     },
     "metadata": {},
     "output_type": "display_data"
    }
   ],
   "source": [
    "sampled_id = 14899\n",
    "interactions = df.loc[df.item_id==sampled_id].copy()\n",
    "name = items.loc[items.item_id==sampled_id].title.values[0]\n",
    "print(name)\n",
    "interactions.last_watch_dt.hist(bins=50)"
   ]
  },
  {
   "cell_type": "markdown",
   "id": "63d4bf26",
   "metadata": {},
   "source": [
    "На графике видно, что до июля практически никто не взаимодейстовал с этим фильмом на платформе, но потом произошел резкий скачок в популярности. Скорее всего это связано с тем, что фильм вышел в этом же году и цифровой релиз состоялся в конце мая. Возможно до июля платформа не имела лицензии на фильм, но потом ее приобрела и появилась возможность посмотреть этот фильм на сервисе"
   ]
  },
  {
   "cell_type": "code",
   "execution_count": 53,
   "id": "1da04709",
   "metadata": {},
   "outputs": [
    {
     "name": "stdout",
     "output_type": "stream",
     "text": [
      "Марсианин\n"
     ]
    },
    {
     "data": {
      "text/plain": [
       "<Axes: >"
      ]
     },
     "execution_count": 53,
     "metadata": {},
     "output_type": "execute_result"
    },
    {
     "data": {
      "image/png": "[encoded data removed]",
      "text/plain": [
       "<Figure size 640x480 with 1 Axes>"
      ]
     },
     "metadata": {},
     "output_type": "display_data"
    }
   ],
   "source": [
    "sampled_id = 2301\n",
    "interactions = df.loc[df.item_id==sampled_id].copy()\n",
    "name = items.loc[items.item_id==sampled_id].title.values[0]\n",
    "print(name)\n",
    "interactions.last_watch_dt.hist(bins=50)"
   ]
  },
  {
   "cell_type": "markdown",
   "id": "96db3bfc",
   "metadata": {},
   "source": [
    "На графике видно, что до конца мая фильм не пользовался особой популярностью, потом произошел резкий скачок и такой же резкий спад, но после спада средняя популярность немного увеличилась по сравнению с периодом перед скачком. Возмжно это связано с частыми упоминаниями этого фильма в социальных сетях в промежуток времени, когда произошел скачок, но с резким спадом тренда на этот фильм в социальных сетях также упали и просмотры."
   ]
  },
  {
   "cell_type": "code",
   "execution_count": 55,
   "id": "10c7c5cf",
   "metadata": {},
   "outputs": [
    {
     "name": "stdout",
     "output_type": "stream",
     "text": [
      "Криминальные боссы\n"
     ]
    },
    {
     "data": {
      "text/plain": [
       "<Axes: >"
      ]
     },
     "execution_count": 55,
     "metadata": {},
     "output_type": "execute_result"
    },
    {
     "data": {
      "image/png": "[encoded data removed]",
      "text/plain": [
       "<Figure size 640x480 with 1 Axes>"
      ]
     },
     "metadata": {},
     "output_type": "display_data"
    }
   ],
   "source": [
    "sampled_id = 1053\n",
    "interactions = df.loc[df.item_id==sampled_id].copy()\n",
    "name = items.loc[items.item_id==sampled_id].title.values[0]\n",
    "print(name)\n",
    "interactions.last_watch_dt.hist(bins=50)"
   ]
  },
  {
   "cell_type": "markdown",
   "id": "1deb84d6",
   "metadata": {},
   "source": [
    "На этом графике видно, что сначала, в марте фильм был популярным, но потом популярность пошла на резкий спад. Скорее всего это связано с тем, что цифровой релиз фильма состоялся в конце декабря, в марте он появился на платформе и много людей его сразу посмотрело, но дальше он уже непользовался популярностью у зрителей, потому что возможно оказался плохого качества"
   ]
  },
  {
   "cell_type": "code",
   "execution_count": 59,
   "id": "5b1be706",
   "metadata": {},
   "outputs": [
    {
     "name": "stdout",
     "output_type": "stream",
     "text": [
      "Ford против Ferrari\n"
     ]
    },
    {
     "data": {
      "text/plain": [
       "<Axes: >"
      ]
     },
     "execution_count": 59,
     "metadata": {},
     "output_type": "execute_result"
    },
    {
     "data": {
      "image/png": "[encoded data removed]",
      "text/plain": [
       "<Figure size 640x480 with 1 Axes>"
      ]
     },
     "metadata": {},
     "output_type": "display_data"
    }
   ],
   "source": [
    "sampled_id = 4436\n",
    "interactions = df.loc[df.item_id==sampled_id].copy()\n",
    "name = items.loc[items.item_id==sampled_id].title.values[0]\n",
    "print(name)\n",
    "interactions.last_watch_dt.hist(bins=50)"
   ]
  },
  {
   "cell_type": "markdown",
   "id": "7d0c1941",
   "metadata": {},
   "source": [
    "По графику видно, что этот фильм особо не имел больших скачков в популярности, он был популярен практически все время, представленное в данных. Возможно это связано с тем, что фильм был качественным, с высоким рейтингом и пользователи могли даже его пересматривать, потому что фильм вышел за два года до дат, показываемых на графике, но все равно имел популярность на сервисе, причем постоянную"
   ]
  },
  {
   "cell_type": "markdown",
   "id": "7597d4c1-68c8-4187-92ee-79cb44a84de8",
   "metadata": {
    "id": "7597d4c1-68c8-4187-92ee-79cb44a84de8"
   },
   "source": [
    "**Задание №5. User-item encoding**\n",
    "\n",
    "Теперь, создайте матрицу интеракций user-item по примеру из семинара. Вам нужно в итоге получить разреженную матрицу (sparse matrix), в которой в качестве строк будут пользователи, в качестве колонок - айтемы. Не забудьте перекодировать пользователей и айтемы через энкодер. В отличие от семинара, оставьте в матрице только юзеров и айтемы, которые встречались в матрице > 4 раз."
   ]
  },
  {
   "cell_type": "markdown",
   "id": "4ee1dd61-2f92-420d-96ce-3185dd80cb81",
   "metadata": {
    "id": "4ee1dd61-2f92-420d-96ce-3185dd80cb81"
   },
   "source": [
    "Важно: когда вы отфильтруете юзеров на встречаемость > 4 раз, вы удалите какие-то айтемы, которые теперь станут встречаться меньше 5 раз. Поэтому у вас перестанет выполняться второе условие на минимальное число интеракций с айтемом. Тогда вам надо опять отфильтровать айтемы на встречаемость, но это снова может нарушить условие для юзеров. В таком случае, вам надо написать итеративный алгоритм до сходимости, пока требования не будут выполняться в обеих колонках. "
   ]
  },
  {
   "cell_type": "code",
   "execution_count": 158,
   "id": "1c4a5a4a-eabf-4145-b081-53881e5ce9c1",
   "metadata": {
    "id": "1c4a5a4a-eabf-4145-b081-53881e5ce9c1"
   },
   "outputs": [],
   "source": [
    "def filter_column(df, min_freq):\n",
    "    \"\"\"\n",
    "    Filter dataframe, excluding least active users and least popular items.\n",
    "    Return a copy of the dataframe with at least min_freq entries\n",
    "    in both users and items\n",
    "    \"\"\"\n",
    "    df_c = df.copy()\n",
    "    while True:\n",
    "        change = False\n",
    "        users_activity = df_c.groupby(['user_id']).count().sort_values('item_id')\n",
    "        needed_inds = users_activity[users_activity['item_id'] >= min_freq].index.tolist()\n",
    "        df_c = df_c[np.isin(df_c['user_id'], needed_inds)]\n",
    "\n",
    "        items_activity = df_c.groupby(['item_id']).count().sort_values('user_id')\n",
    "        if items_activity['user_id'].tolist() and items_activity['user_id'].tolist()[0] < min_freq:\n",
    "            change = True\n",
    "        needed_inds = items_activity[items_activity['user_id'] >= min_freq].index.tolist()\n",
    "        df_c = df_c[np.isin(df_c['item_id'], needed_inds)]\n",
    "        if not change:\n",
    "            break\n",
    "        \n",
    "    return df_c\n",
    "\n",
    "def filter_dataframe(df, cols, min_freq=5):\n",
    "    \"\"\"\n",
    "    Filter dataframe by given columns until each of them satisfies\n",
    "    min_freq condition, guaranteed by filter_columns. Return a copy\n",
    "    of the dataframe\n",
    "    \"\"\"\n",
    "    return filter_column(df, min_freq) # Я в целом весь нужный функционал для нашей задачи написал в первой функции, так что я только ей пользовался\n",
    "\n",
    "filtered_train = filter_column(train_df, 5)"
   ]
  },
  {
   "cell_type": "code",
   "execution_count": 159,
   "id": "a02c1fe8-2068-43d2-9851-edd67b5866c2",
   "metadata": {
    "colab": {
     "base_uri": "https://localhost:8080/",
     "height": 373
    },
    "id": "a02c1fe8-2068-43d2-9851-edd67b5866c2",
    "outputId": "0bcbad24-be0f-4b47-8d98-ea72f7ebe2e9"
   },
   "outputs": [
    {
     "data": {
      "text/html": [
       "<div>\n",
       "<style scoped>\n",
       "    .dataframe tbody tr th:only-of-type {\n",
       "        vertical-align: middle;\n",
       "    }\n",
       "\n",
       "    .dataframe tbody tr th {\n",
       "        vertical-align: top;\n",
       "    }\n",
       "\n",
       "    .dataframe thead th {\n",
       "        text-align: right;\n",
       "    }\n",
       "</style>\n",
       "<table border=\"1\" class=\"dataframe\">\n",
       "  <thead>\n",
       "    <tr style=\"text-align: right;\">\n",
       "      <th></th>\n",
       "      <th>user_id</th>\n",
       "      <th>item_id</th>\n",
       "      <th>last_watch_dt</th>\n",
       "      <th>total_dur</th>\n",
       "      <th>watched_pct</th>\n",
       "    </tr>\n",
       "  </thead>\n",
       "  <tbody>\n",
       "    <tr>\n",
       "      <th>72532</th>\n",
       "      <td>919</td>\n",
       "      <td>798</td>\n",
       "      <td>92</td>\n",
       "      <td>612</td>\n",
       "      <td>13.0</td>\n",
       "    </tr>\n",
       "    <tr>\n",
       "      <th>1661711</th>\n",
       "      <td>5605</td>\n",
       "      <td>348</td>\n",
       "      <td>110</td>\n",
       "      <td>5485</td>\n",
       "      <td>100.0</td>\n",
       "    </tr>\n",
       "    <tr>\n",
       "      <th>3007086</th>\n",
       "      <td>1667</td>\n",
       "      <td>14</td>\n",
       "      <td>86</td>\n",
       "      <td>1282</td>\n",
       "      <td>13.0</td>\n",
       "    </tr>\n",
       "    <tr>\n",
       "      <th>1708972</th>\n",
       "      <td>206</td>\n",
       "      <td>425</td>\n",
       "      <td>89</td>\n",
       "      <td>149</td>\n",
       "      <td>3.0</td>\n",
       "    </tr>\n",
       "    <tr>\n",
       "      <th>2400440</th>\n",
       "      <td>3912</td>\n",
       "      <td>66</td>\n",
       "      <td>91</td>\n",
       "      <td>23243</td>\n",
       "      <td>100.0</td>\n",
       "    </tr>\n",
       "  </tbody>\n",
       "</table>\n",
       "</div>"
      ],
      "text/plain": [
       "         user_id  item_id  last_watch_dt  total_dur  watched_pct\n",
       "72532        919      798             92        612         13.0\n",
       "1661711     5605      348            110       5485        100.0\n",
       "3007086     1667       14             86       1282         13.0\n",
       "1708972      206      425             89        149          3.0\n",
       "2400440     3912       66             91      23243        100.0"
      ]
     },
     "execution_count": 159,
     "metadata": {},
     "output_type": "execute_result"
    }
   ],
   "source": [
    "def df_encode(df):\n",
    "    item2id = {k:v for v, k in enumerate(df.item_id.unique())}\n",
    "    user2id = {k:v for v, k in enumerate(df.user_id.unique())}\n",
    "\n",
    "    id2item = {k:v for v, k in item2id.items()}\n",
    "    id2user = {k:v for v, k in user2id.items()}\n",
    "\n",
    "    df['user_id'] = df.user_id.apply(lambda x: user2id[x])\n",
    "    df['item_id'] = df.item_id.apply(lambda x: item2id[x])\n",
    "    return df, user2id, item2id, id2item, id2user\n",
    "\n",
    "filtered_train, user2id, item2id, id2item, id2user = df_encode(filtered_train)\n",
    "filtered_train.sample(5)"
   ]
  },
  {
   "cell_type": "code",
   "execution_count": 160,
   "id": "cb0760a7-5667-41a5-b47e-12f297ed3d1e",
   "metadata": {
    "colab": {
     "base_uri": "https://localhost:8080/"
    },
    "id": "cb0760a7-5667-41a5-b47e-12f297ed3d1e",
    "outputId": "678f4947-3a6f-4605-bfaf-8a352b2098ab"
   },
   "outputs": [
    {
     "data": {
      "text/plain": [
       "<5853x3074 sparse matrix of type '<class 'numpy.float64'>'\n",
       "\twith 106096 stored elements in COOrdinate format>"
      ]
     },
     "execution_count": 160,
     "metadata": {},
     "output_type": "execute_result"
    }
   ],
   "source": [
    "from scipy import sparse as sps\n",
    "\n",
    "matrix = sps.coo_matrix(\n",
    "    (np.ones(filtered_train.shape[0]), (filtered_train['user_id'], filtered_train['item_id'])),\n",
    "    shape=(len(user2id), len(item2id)),\n",
    ")\n",
    "matrix"
   ]
  },
  {
   "cell_type": "markdown",
   "id": "CsAJ72grYlLZ",
   "metadata": {
    "id": "CsAJ72grYlLZ"
   },
   "source": [
    "**Задание №6. Интеракции и частота**\n",
    "\n",
    "Постройте график зависимости количества айтемов и юзеров от значений (порогов) фильтров на встречаемость в матрице интеракций. То есть, нужно выполнить задание №5 для нескольких значений `min_freq` и построить график зависимости числа оставшихся айтемов и юзеров от этого параметра. "
   ]
  },
  {
   "cell_type": "code",
   "execution_count": 149,
   "id": "G-UH_tXBYm9p",
   "metadata": {
    "id": "G-UH_tXBYm9p"
   },
   "outputs": [],
   "source": [
    "users_counts = []\n",
    "items_counts = []\n",
    "for min_freq in range(31):\n",
    "    fil_t = filter_column(train_df, min_freq)\n",
    "    users_counts.append(fil_t.user_id.nunique())\n",
    "    items_counts.append(fil_t.item_id.nunique())"
   ]
  },
  {
   "cell_type": "code",
   "execution_count": 187,
   "id": "68811cee",
   "metadata": {},
   "outputs": [
    {
     "data": {
      "image/png": "[encoded data removed]",
      "text/plain": [
       "<Figure size 640x480 with 1 Axes>"
      ]
     },
     "metadata": {},
     "output_type": "display_data"
    }
   ],
   "source": [
    "plt.plot(list(range(31)), users_counts)\n",
    "plt.plot(list(range(31)), items_counts)\n",
    "plt.xlabel('min_freq')\n",
    "plt.ylabel('number of users/items')\n",
    "plt.legend(['users', 'items'])\n",
    "plt.show()"
   ]
  },
  {
   "cell_type": "markdown",
   "id": "d388eb41-094d-4317-9ae6-391a5b014a92",
   "metadata": {
    "id": "d388eb41-094d-4317-9ae6-391a5b014a92"
   },
   "source": [
    "**Задание №7. EASE**\n",
    "\n",
    "Реализуйте EASE, постройте рекомендации для юзеров. Сравните все имплементированные ранее метрики качества с `TopPopular` для некоторого набора k. "
   ]
  },
  {
   "cell_type": "markdown",
   "id": "acccc267-038b-4029-ba63-38e875f87a67",
   "metadata": {
    "id": "acccc267-038b-4029-ba63-38e875f87a67"
   },
   "source": [
    "Реализацию можно взять из семинара. Можно реализовать по статье https://arxiv.org/pdf/1905.03375.pdf. Можно взять и адаптировать из RecBole https://github.com/RUCAIBox/RecBole."
   ]
  },
  {
   "cell_type": "code",
   "execution_count": 161,
   "id": "04e19a99-8797-45e7-ad48-44312f0839d4",
   "metadata": {
    "colab": {
     "base_uri": "https://localhost:8080/"
    },
    "id": "04e19a99-8797-45e7-ad48-44312f0839d4",
    "outputId": "83899393-f38f-4116-9431-8aaa00e09b29"
   },
   "outputs": [
    {
     "name": "stdout",
     "output_type": "stream",
     "text": [
      "CPU times: user 4.35 s, sys: 238 ms, total: 4.59 s\n",
      "Wall time: 780 ms\n"
     ]
    }
   ],
   "source": [
    "%%time\n",
    "\n",
    "# Обучаем конечную модель\n",
    "# Мы взяли реализацию из RecBole\n",
    "#\n",
    "def fit_ease(X, reg_weight=1000):\n",
    "    # gram matrix\n",
    "    G = X.T @ X\n",
    "\n",
    "    # add reg to diagonal\n",
    "    G += reg_weight * sps.identity(G.shape[0])\n",
    "\n",
    "    # convert to dense because inverse will be dense\n",
    "    G = G.todense()\n",
    "\n",
    "    # invert. this takes most of the time\n",
    "    P = np.linalg.inv(G)\n",
    "    B = P / (-np.diag(P))\n",
    "    # zero out diag\n",
    "    np.fill_diagonal(B, 0.)\n",
    "    \n",
    "    return B\n",
    "\n",
    "w = fit_ease(matrix)"
   ]
  },
  {
   "cell_type": "markdown",
   "id": "70d0d9db",
   "metadata": {},
   "source": [
    "Далее, вам надо реализовать функцию получения предсказаний. У вас есть обученная матрица весов, которую можно использовать для получения предсказаний. Для этого нужно построить вектор интеракций пользователя и умножить его на матрицу весов."
   ]
  },
  {
   "cell_type": "code",
   "execution_count": 162,
   "id": "ceabfecc-2a1d-4808-998e-404ed6b57592",
   "metadata": {
    "colab": {
     "base_uri": "https://localhost:8080/",
     "height": 833
    },
    "id": "ceabfecc-2a1d-4808-998e-404ed6b57592",
    "outputId": "67abc3e8-3430-477e-c030-01e55bc15448"
   },
   "outputs": [
    {
     "data": {
      "text/html": [
       "<div>\n",
       "<style scoped>\n",
       "    .dataframe tbody tr th:only-of-type {\n",
       "        vertical-align: middle;\n",
       "    }\n",
       "\n",
       "    .dataframe tbody tr th {\n",
       "        vertical-align: top;\n",
       "    }\n",
       "\n",
       "    .dataframe thead th {\n",
       "        text-align: right;\n",
       "    }\n",
       "</style>\n",
       "<table border=\"1\" class=\"dataframe\">\n",
       "  <thead>\n",
       "    <tr style=\"text-align: right;\">\n",
       "      <th></th>\n",
       "      <th>user_id</th>\n",
       "      <th>train_interactions</th>\n",
       "      <th>test_interactions</th>\n",
       "      <th>random_recs</th>\n",
       "      <th>toppopular_recs</th>\n",
       "      <th>toppopularweighted_recs</th>\n",
       "      <th>ease_preds</th>\n",
       "    </tr>\n",
       "  </thead>\n",
       "  <tbody>\n",
       "    <tr>\n",
       "      <th>0</th>\n",
       "      <td>47</td>\n",
       "      <td>[(13361, 138), (13865, 138), (7401, 142), (129...</td>\n",
       "      <td>[(14488, 160)]</td>\n",
       "      <td>[8002, 1660, 4942]</td>\n",
       "      <td>[10440, 15297, 9728, 13865, 3734, 4151, 4880, ...</td>\n",
       "      <td>[10440, 15297, 9728, 13865, 3734, 4151, 4880, ...</td>\n",
       "      <td>[9728, 10440, 3734, 15297, 12995, 8636, 4880, ...</td>\n",
       "    </tr>\n",
       "    <tr>\n",
       "      <th>1</th>\n",
       "      <td>229</td>\n",
       "      <td>[(11275, 110), (4151, 110), (1699, 126), (1460...</td>\n",
       "      <td>[(14910, 153), (10440, 160), (3697, 161)]</td>\n",
       "      <td>[8002, 1660, 4942]</td>\n",
       "      <td>[10440, 15297, 9728, 13865, 3734, 4151, 4880, ...</td>\n",
       "      <td>[10440, 15297, 9728, 13865, 3734, 4151, 4880, ...</td>\n",
       "      <td>[4151, 4880, 3734, 10440, 15297, 142, 2657, 13...</td>\n",
       "    </tr>\n",
       "    <tr>\n",
       "      <th>2</th>\n",
       "      <td>313</td>\n",
       "      <td>[(14170, 4), (162, 4), (8276, 6), (758, 14), (...</td>\n",
       "      <td>[(9062, 156)]</td>\n",
       "      <td>[8002, 1660, 4942]</td>\n",
       "      <td>[10440, 15297, 9728, 13865, 3734, 4151, 4880, ...</td>\n",
       "      <td>[10440, 15297, 9728, 13865, 3734, 4151, 4880, ...</td>\n",
       "      <td>[4151, 10440, 3734, 9728, 13865, 142, 16228, 2...</td>\n",
       "    </tr>\n",
       "    <tr>\n",
       "      <th>3</th>\n",
       "      <td>446</td>\n",
       "      <td>[(13865, 105)]</td>\n",
       "      <td>[(12202, 160), (230, 160)]</td>\n",
       "      <td>[8002, 1660, 4942]</td>\n",
       "      <td>[10440, 15297, 9728, 13865, 3734, 4151, 4880, ...</td>\n",
       "      <td>[10440, 15297, 9728, 13865, 3734, 4151, 4880, ...</td>\n",
       "      <td>[9728, 10440, 3734, 15297, 12995, 4880, 8636, ...</td>\n",
       "    </tr>\n",
       "    <tr>\n",
       "      <th>4</th>\n",
       "      <td>480</td>\n",
       "      <td>[(7389, 51), (9314, 51), (760, 55), (9709, 56)...</td>\n",
       "      <td>[(7025, 161)]</td>\n",
       "      <td>[8002, 1660, 4942]</td>\n",
       "      <td>[10440, 15297, 9728, 13865, 3734, 4151, 4880, ...</td>\n",
       "      <td>[10440, 15297, 9728, 13865, 3734, 4151, 4880, ...</td>\n",
       "      <td>[10440, 15297, 9728, 3734, 13865, 4880, 2657, ...</td>\n",
       "    </tr>\n",
       "  </tbody>\n",
       "</table>\n",
       "</div>"
      ],
      "text/plain": [
       "   user_id                                 train_interactions  \\\n",
       "0       47  [(13361, 138), (13865, 138), (7401, 142), (129...   \n",
       "1      229  [(11275, 110), (4151, 110), (1699, 126), (1460...   \n",
       "2      313  [(14170, 4), (162, 4), (8276, 6), (758, 14), (...   \n",
       "3      446                                     [(13865, 105)]   \n",
       "4      480  [(7389, 51), (9314, 51), (760, 55), (9709, 56)...   \n",
       "\n",
       "                           test_interactions         random_recs  \\\n",
       "0                             [(14488, 160)]  [8002, 1660, 4942]   \n",
       "1  [(14910, 153), (10440, 160), (3697, 161)]  [8002, 1660, 4942]   \n",
       "2                              [(9062, 156)]  [8002, 1660, 4942]   \n",
       "3                 [(12202, 160), (230, 160)]  [8002, 1660, 4942]   \n",
       "4                              [(7025, 161)]  [8002, 1660, 4942]   \n",
       "\n",
       "                                     toppopular_recs  \\\n",
       "0  [10440, 15297, 9728, 13865, 3734, 4151, 4880, ...   \n",
       "1  [10440, 15297, 9728, 13865, 3734, 4151, 4880, ...   \n",
       "2  [10440, 15297, 9728, 13865, 3734, 4151, 4880, ...   \n",
       "3  [10440, 15297, 9728, 13865, 3734, 4151, 4880, ...   \n",
       "4  [10440, 15297, 9728, 13865, 3734, 4151, 4880, ...   \n",
       "\n",
       "                             toppopularweighted_recs  \\\n",
       "0  [10440, 15297, 9728, 13865, 3734, 4151, 4880, ...   \n",
       "1  [10440, 15297, 9728, 13865, 3734, 4151, 4880, ...   \n",
       "2  [10440, 15297, 9728, 13865, 3734, 4151, 4880, ...   \n",
       "3  [10440, 15297, 9728, 13865, 3734, 4151, 4880, ...   \n",
       "4  [10440, 15297, 9728, 13865, 3734, 4151, 4880, ...   \n",
       "\n",
       "                                          ease_preds  \n",
       "0  [9728, 10440, 3734, 15297, 12995, 8636, 4880, ...  \n",
       "1  [4151, 4880, 3734, 10440, 15297, 142, 2657, 13...  \n",
       "2  [4151, 10440, 3734, 9728, 13865, 142, 16228, 2...  \n",
       "3  [9728, 10440, 3734, 15297, 12995, 4880, 8636, ...  \n",
       "4  [10440, 15297, 9728, 3734, 13865, 4880, 2657, ...  "
      ]
     },
     "execution_count": 162,
     "metadata": {},
     "output_type": "execute_result"
    }
   ],
   "source": [
    "def get_preds(x, item2id, id2item):\n",
    "\n",
    "    user_items = [t[0] for t in x]\n",
    "    encoded = [item2id[t] for t in user_items if t in item2id]\n",
    "\n",
    "    vector = np.zeros(len(item2id))\n",
    "    vector[encoded] = 1\n",
    "\n",
    "    vector = sps.csr_matrix(vector)\n",
    "\n",
    "    preds = np.array(vector.dot(w))[0]\n",
    "    preds[encoded==1] = -np.inf\n",
    "\n",
    "    ranks = np.argsort(-preds)\n",
    "    decoded = [id2item[t] for t in ranks][:100]\n",
    "    \n",
    "    return decoded\n",
    "\n",
    "\n",
    "joined['ease_preds'] = joined.train_interactions.apply(lambda x: get_preds(x, item2id, id2item))\n",
    "joined.head()"
   ]
  },
  {
   "cell_type": "code",
   "execution_count": 173,
   "id": "979f3051-5348-4c1e-a21c-033d5cd3d6cd",
   "metadata": {
    "id": "979f3051-5348-4c1e-a21c-033d5cd3d6cd"
   },
   "outputs": [],
   "source": [
    "maps_ease = []\n",
    "mrrs_ease = []\n",
    "hrs_ease = []\n",
    "for k in range(1, 101):\n",
    "    mets = evaluate_recommender_topn(joined, model_preds='ease_preds', topn=k)\n",
    "    maps_ease.append(mets['map'])\n",
    "    mrrs_ease.append(mets['mrr'])\n",
    "    hrs_ease.append(mets['hr'])"
   ]
  },
  {
   "cell_type": "code",
   "execution_count": 175,
   "id": "c94c3679",
   "metadata": {},
   "outputs": [
    {
     "data": {
      "image/png": "[encoded data removed]",
      "text/plain": [
       "<Figure size 640x480 with 1 Axes>"
      ]
     },
     "metadata": {},
     "output_type": "display_data"
    }
   ],
   "source": [
    "plt.plot(list(range(1, 101)), maps)\n",
    "plt.plot(list(range(1, 101)), maps_ease)\n",
    "plt.xlabel('k')\n",
    "plt.ylabel('metric value')\n",
    "plt.legend(['TopPopular', 'EASE'])\n",
    "plt.title('MAP@k')\n",
    "plt.show()"
   ]
  },
  {
   "cell_type": "code",
   "execution_count": 176,
   "id": "37190273",
   "metadata": {},
   "outputs": [
    {
     "data": {
      "image/png": "[encoded data removed]",
      "text/plain": [
       "<Figure size 640x480 with 1 Axes>"
      ]
     },
     "metadata": {},
     "output_type": "display_data"
    }
   ],
   "source": [
    "plt.plot(list(range(1, 101)), mrrs)\n",
    "plt.plot(list(range(1, 101)), mrrs_ease)\n",
    "plt.xlabel('k')\n",
    "plt.ylabel('metric value')\n",
    "plt.legend(['TopPopular', 'EASE'])\n",
    "plt.title('MRR@k')\n",
    "plt.show()"
   ]
  },
  {
   "cell_type": "code",
   "execution_count": 177,
   "id": "7aa7e495",
   "metadata": {},
   "outputs": [
    {
     "data": {
      "image/png": "[encoded data removed]",
      "text/plain": [
       "<Figure size 640x480 with 1 Axes>"
      ]
     },
     "metadata": {},
     "output_type": "display_data"
    }
   ],
   "source": [
    "plt.plot(list(range(1, 101)), hrs)\n",
    "plt.plot(list(range(1, 101)), hrs_ease)\n",
    "plt.xlabel('k')\n",
    "plt.ylabel('metric value')\n",
    "plt.legend(['TopPopular', 'EASE'])\n",
    "plt.title('HR@k')\n",
    "plt.show()"
   ]
  },
  {
   "cell_type": "markdown",
   "id": "24552dc3-4d5d-4e9c-bc16-691a3537e7d9",
   "metadata": {
    "id": "24552dc3-4d5d-4e9c-bc16-691a3537e7d9"
   },
   "source": [
    "Сделайте выводы — какой алгоритм работает лучше?\n",
    "\n",
    "**Ответ:** По получившимся графикам видно, что по каждой метрике алгоритм EASE работает лучше и дает лучшее качество для всех k"
   ]
  },
  {
   "cell_type": "markdown",
   "id": "9e2ecca7-92c2-4b1f-b5d3-4f9dd18a4632",
   "metadata": {
    "id": "9e2ecca7-92c2-4b1f-b5d3-4f9dd18a4632"
   },
   "source": [
    "**Задание №8. Тюнинг**\n",
    "\n",
    "Переберите различные значения гиперпараметра коэффициента регуляризации у EASE и постройте графики, как в задании №6. Постарайтесь \"затюнить\" EASE как можно лучше. Возьмите разумное число гиперпараметров - хотя бы штук 20 по логарифмической сетке, либо используйте более хитрые алгоритмы оптимизации. "
   ]
  },
  {
   "cell_type": "code",
   "execution_count": 185,
   "id": "e0837eb6-e81f-4543-b848-fdeacb7169ee",
   "metadata": {
    "id": "e0837eb6-e81f-4543-b848-fdeacb7169ee"
   },
   "outputs": [],
   "source": [
    "weights = np.logspace(2, 3.5, 20)\n",
    "maps_ease_2 = []\n",
    "mrrs_ease_2 = []\n",
    "hrs_ease_2 = []\n",
    "for weight in weights:\n",
    "    w = fit_ease(matrix, reg_weight=weight)\n",
    "    joined['ease_preds'] = joined.train_interactions.apply(lambda x: get_preds(x, item2id, id2item))\n",
    "    mets = evaluate_recommender(joined, model_preds='ease_preds')\n",
    "    maps_ease_2.append(mets['map'])\n",
    "    mrrs_ease_2.append(mets['mrr'])\n",
    "    hrs_ease_2.append(mets['hr'])"
   ]
  },
  {
   "cell_type": "code",
   "execution_count": 186,
   "id": "25bb2d41",
   "metadata": {},
   "outputs": [
    {
     "data": {
      "image/png": "[encoded data removed]",
      "text/plain": [
       "<Figure size 640x480 with 1 Axes>"
      ]
     },
     "metadata": {},
     "output_type": "display_data"
    }
   ],
   "source": [
    "plt.plot(list(weights), maps_ease_2)\n",
    "plt.plot(list(weights), mrrs_ease_2)\n",
    "plt.plot(list(weights), hrs_ease_2)\n",
    "plt.xlabel('reg_weight')\n",
    "plt.ylabel('metric value')\n",
    "plt.legend(['MAP@k', 'MRR@k', 'HR@k'])\n",
    "plt.show()"
   ]
  },
  {
   "cell_type": "markdown",
   "id": "891c9613-3f51-4186-bfa1-566d82d0628f",
   "metadata": {
    "id": "891c9613-3f51-4186-bfa1-566d82d0628f"
   },
   "source": [
    "Ответьте на следующие вопросы:\n",
    "\n",
    "8.1 Какое значение гиперпараметра является наилучшим? \n",
    "\n",
    "\n",
    "**Ответ:** Графики не очень сильно растут, но примерно при параметре = 2000 они выходят на плато и качество перестает увеличиваться, так что наилучшим параметром будет примерно 2000\n",
    "\n",
    "8.2 Что еще интересного вы можете сказать по графикам? Может быть, что-то свзяанное с распределением параметров, влиянием на отдельные метрики, скоростью тюнинга?\n",
    "\n",
    "**Ответ:** По графикам видно, что параметр влияет на разные метрики практически одинаково, видно небольшой прирост (но самый быстрый) в начале, когда параметр растет до 500, потом рост каждой функции становится более равномерным и в дальнейшем выходит на плато. Скорость тюнинга довольно маленькая - чем большие значения параметра мы берем, тем медленнее растут метрики"
   ]
  },
  {
   "cell_type": "markdown",
   "id": "e38fcce4-b192-4faa-8ddf-8e8791f2c28b",
   "metadata": {
    "id": "e38fcce4-b192-4faa-8ddf-8e8791f2c28b"
   },
   "source": [
    "**Задание №9. EASE и topk**\n",
    "\n",
    "В лекции №2 говорилось, что качество у EASE растет с ослаблением фильтра на число айтемов. В этом задании постройте кривые метрик качества MAP/MRR/HR в зависимости от topk (например, от 1 до 100 с некоторым шагом), где кривая параметризована минимальным требуемым значением встречаемости user/item (из задания №6). Опишите свои выводы."
   ]
  },
  {
   "cell_type": "markdown",
   "id": "ca0be51b-5055-407d-8916-96d38cdabdb7",
   "metadata": {
    "id": "ca0be51b-5055-407d-8916-96d38cdabdb7"
   },
   "source": [
    "Важно: в этом задании линии могут быть мало различимыми, поэтому ваша задача для каждой метрики найти нужный масштаб на каких-то конкретных topk, чтобы линии стали визуально отличимы. "
   ]
  },
  {
   "cell_type": "code",
   "execution_count": 327,
   "id": "10a1379f",
   "metadata": {},
   "outputs": [
    {
     "name": "stderr",
     "output_type": "stream",
     "text": [
      "/var/folders/5q/dr1_wwq51175s4qj4dnxgsz80000gn/T/ipykernel_65623/2440695216.py:20: DeprecationWarning: DataFrameGroupBy.apply operated on the grouping columns. This behavior is deprecated, and in a future version of pandas the grouping columns will be excluded from the operation. Either pass `include_groups=False` to exclude the groupings or explicitly select the grouping columns after groupby to silence this warning.\n",
      "  train_grouped_local = fil_t.groupby('user_id').apply(lambda x: [(t1, t2) for t1, t2 in sorted(zip(x.item_id, x.last_watch_dt), key=lambda x: x[1])]).reset_index()\n",
      "/var/folders/5q/dr1_wwq51175s4qj4dnxgsz80000gn/T/ipykernel_65623/2440695216.py:20: DeprecationWarning: DataFrameGroupBy.apply operated on the grouping columns. This behavior is deprecated, and in a future version of pandas the grouping columns will be excluded from the operation. Either pass `include_groups=False` to exclude the groupings or explicitly select the grouping columns after groupby to silence this warning.\n",
      "  train_grouped_local = fil_t.groupby('user_id').apply(lambda x: [(t1, t2) for t1, t2 in sorted(zip(x.item_id, x.last_watch_dt), key=lambda x: x[1])]).reset_index()\n",
      "/var/folders/5q/dr1_wwq51175s4qj4dnxgsz80000gn/T/ipykernel_65623/2440695216.py:20: DeprecationWarning: DataFrameGroupBy.apply operated on the grouping columns. This behavior is deprecated, and in a future version of pandas the grouping columns will be excluded from the operation. Either pass `include_groups=False` to exclude the groupings or explicitly select the grouping columns after groupby to silence this warning.\n",
      "  train_grouped_local = fil_t.groupby('user_id').apply(lambda x: [(t1, t2) for t1, t2 in sorted(zip(x.item_id, x.last_watch_dt), key=lambda x: x[1])]).reset_index()\n",
      "/var/folders/5q/dr1_wwq51175s4qj4dnxgsz80000gn/T/ipykernel_65623/2440695216.py:20: DeprecationWarning: DataFrameGroupBy.apply operated on the grouping columns. This behavior is deprecated, and in a future version of pandas the grouping columns will be excluded from the operation. Either pass `include_groups=False` to exclude the groupings or explicitly select the grouping columns after groupby to silence this warning.\n",
      "  train_grouped_local = fil_t.groupby('user_id').apply(lambda x: [(t1, t2) for t1, t2 in sorted(zip(x.item_id, x.last_watch_dt), key=lambda x: x[1])]).reset_index()\n",
      "/var/folders/5q/dr1_wwq51175s4qj4dnxgsz80000gn/T/ipykernel_65623/2440695216.py:20: DeprecationWarning: DataFrameGroupBy.apply operated on the grouping columns. This behavior is deprecated, and in a future version of pandas the grouping columns will be excluded from the operation. Either pass `include_groups=False` to exclude the groupings or explicitly select the grouping columns after groupby to silence this warning.\n",
      "  train_grouped_local = fil_t.groupby('user_id').apply(lambda x: [(t1, t2) for t1, t2 in sorted(zip(x.item_id, x.last_watch_dt), key=lambda x: x[1])]).reset_index()\n"
     ]
    },
    {
     "data": {
      "image/png": "[encoded data removed]",
      "text/plain": [
       "<Figure size 800x1200 with 3 Axes>"
      ]
     },
     "metadata": {},
     "output_type": "display_data"
    }
   ],
   "source": [
    "fig, axs = plt.subplots(3, 1, figsize=(8, 12))\n",
    "\n",
    "axs[0].set_title('MAP@k')\n",
    "axs[1].set_title('MRR@k')\n",
    "axs[2].set_title('HR@k')\n",
    "\n",
    "axs[0].set_xlabel('k')\n",
    "axs[1].set_xlabel('k')\n",
    "axs[2].set_xlabel('k')\n",
    "\n",
    "axs[0].set_ylabel('metric value')\n",
    "axs[1].set_ylabel('metric value')\n",
    "axs[2].set_ylabel('metric value')\n",
    "\n",
    "for min_freq in range(0, 21, 5):\n",
    "    maps = []\n",
    "    mrrs = []\n",
    "    hrs = []\n",
    "    fil_t = filter_column(train_df, min_freq)\n",
    "    train_grouped_local = fil_t.groupby('user_id').apply(lambda x: [(t1, t2) for t1, t2 in sorted(zip(x.item_id, x.last_watch_dt), key=lambda x: x[1])]).reset_index()\n",
    "    train_grouped_local.rename({0:'train_interactions'}, axis=1, inplace=True)\n",
    "    joined_local = train_grouped_local.merge(test_grouped)\n",
    "    joined_local['ease_preds'] = joined_local.train_interactions.apply(lambda x: get_preds(x, item2id, id2item))\n",
    "    for k in range(1, 101):\n",
    "        mets = evaluate_recommender_topn(joined_local, model_preds='ease_preds', topn=k)\n",
    "        maps.append(mets['map'])\n",
    "        mrrs.append(mets['mrr'])\n",
    "        hrs.append(mets['hr'])\n",
    "    axs[0].plot(list(range(1, 101)), maps)\n",
    "    axs[1].plot(list(range(1, 101)), mrrs)\n",
    "    axs[2].plot(list(range(1, 101)), hrs)\n",
    "axs[0].legend([f\"min_freq={mf}\" for mf in range(0, 21, 5)])\n",
    "axs[1].legend([f\"min_freq={mf}\" for mf in range(0, 21, 5)])\n",
    "axs[2].legend([f\"min_freq={mf}\" for mf in range(0, 21, 5)])\n",
    "plt.show()"
   ]
  },
  {
   "cell_type": "markdown",
   "id": "fec3b4b8-e2e0-4722-9f33-08922afe9ac8",
   "metadata": {
    "id": "fec3b4b8-e2e0-4722-9f33-08922afe9ac8"
   },
   "source": [
    "Что вы можете сказать на основе полученных графиков? Соответствуют ли они вашим ожиданиям?\n",
    "\n",
    "**Ответ:** Получилось то, что мы и ожидали - чем больше было значение фильтра, тем хуже EASE показвало качество. Можно заметить, как кривая для MAP@k достигала все меньших значений (при min_freq = 0 была чуть меньше 0.1 и к min_freq = 20 упала ниже 0.04). Аналогичная ситуация просматривается и для кривой MRR@k - изначально она выходила на плато примено на уровне 0.16, к min_freq = 20 стала выходить на плато на уровне 0.1. Для HR@k тоже видно, что сначала кривая достигала значения 0.6 при увеличении k, к min_freq = 20 перестала достигать. Так что кривые всех метрик подтвердили начальное утверждение"
   ]
  },
  {
   "cell_type": "markdown",
   "id": "3448c27a-aadb-4c6a-b17a-84bd58761e67",
   "metadata": {
    "id": "3448c27a-aadb-4c6a-b17a-84bd58761e67"
   },
   "source": [
    "**Задание №10. Интерпретируемые рекомендации**\n",
    "\n",
    "Используйте выученную матрицу весов для item2item рекомендаций. Приведите 10 примеров топ-5 рекомендаций от EASE к сэмплируемым айтемам. Используйте названия фильмов вместо id при выводе рекомендаций. "
   ]
  },
  {
   "cell_type": "code",
   "execution_count": 224,
   "id": "83946038-22e8-461f-8385-dd308a284825",
   "metadata": {
    "id": "83946038-22e8-461f-8385-dd308a284825"
   },
   "outputs": [],
   "source": [
    "w = fit_ease(matrix, reg_weight=2000)"
   ]
  },
  {
   "cell_type": "code",
   "execution_count": 292,
   "id": "86df57b2",
   "metadata": {},
   "outputs": [],
   "source": [
    "def get_recs(item, item2id, id2item):\n",
    "    print(f\"Топ-5 рекомендаций для фильма {items.loc[items.item_id==item].title.values[0]}:\\n\")\n",
    "    id = item2id[item]\n",
    "    ranks = np.array(np.argsort(w[:, id].reshape(3074,)))[0][-5:][::-1]\n",
    "    decoded = [id2item[t] for t in ranks]\n",
    "    for i, film_id in enumerate(decoded):\n",
    "        print(f\"{i + 1}. {items.loc[items.item_id==film_id].title.values[0]}\\n\")"
   ]
  },
  {
   "cell_type": "code",
   "execution_count": 294,
   "id": "6758b8a1",
   "metadata": {},
   "outputs": [
    {
     "name": "stdout",
     "output_type": "stream",
     "text": [
      "Топ-5 рекомендаций для фильма В поисках Дори:\n",
      "\n",
      "1. 100% волк\n",
      "\n",
      "2. Вперёд\n",
      "\n",
      "3. Зверополис\n",
      "\n",
      "4. Ральф против Интернета\n",
      "\n",
      "5. Суперсемейка 2\n",
      "\n"
     ]
    }
   ],
   "source": [
    "get_recs(10605, item2id, id2item)"
   ]
  },
  {
   "cell_type": "markdown",
   "id": "48e1c3a6",
   "metadata": {},
   "source": [
    "Все рекомендации - это мультфильмы, а первые три - про животных (или похожих на них созданий), как и сам айтем. Так что тут рекомендации хорошие"
   ]
  },
  {
   "cell_type": "code",
   "execution_count": 295,
   "id": "bd72c6c5",
   "metadata": {},
   "outputs": [
    {
     "name": "stdout",
     "output_type": "stream",
     "text": [
      "Топ-5 рекомендаций для фильма Марсианин:\n",
      "\n",
      "1. 2067: Петля времени\n",
      "\n",
      "2. Перл Харбор\n",
      "\n",
      "3. Послезавтра\n",
      "\n",
      "4. Белый снег\n",
      "\n",
      "5. Назад в будущее\n",
      "\n"
     ]
    }
   ],
   "source": [
    "get_recs(2301, item2id, id2item)"
   ]
  },
  {
   "cell_type": "markdown",
   "id": "7992be3c",
   "metadata": {},
   "source": [
    "Тут немного смешанные получились рекомендации. Первая и третья подходят под тематику айтема, а последняя под жанр научной фантастики, но вторая и четвертая как-то плохо ассоциируются с айтемом"
   ]
  },
  {
   "cell_type": "code",
   "execution_count": 296,
   "id": "c700e8e8",
   "metadata": {},
   "outputs": [
    {
     "name": "stdout",
     "output_type": "stream",
     "text": [
      "Топ-5 рекомендаций для фильма Ford против Ferrari:\n",
      "\n",
      "1. Гнев человеческий\n",
      "\n",
      "2. Веном\n",
      "\n",
      "3. Зелёная книга\n",
      "\n",
      "4. Белый снег\n",
      "\n",
      "5. Девятаев\n",
      "\n"
     ]
    }
   ],
   "source": [
    "get_recs(4436, item2id, id2item)"
   ]
  },
  {
   "cell_type": "markdown",
   "id": "f549b915",
   "metadata": {},
   "source": [
    "Тут именно по тематике айтема плохо подобрались рекомендации, ни одной рекомендации с фильмом про гонки, а первые три просто популярные хорошие фильмы. Возможно, это потому что других фильмов про гонки на платформе не было и, наверное, потому что айтем является довольно популярным фильмом и вместе с ним пользователи смотрели другие популярные фильмы, но не схожие по тематике, т.е. не обязательно те, кто посмотрел этот фильм интересовались гонками и другими фильмами на эту тематику, они просто решили посмотреть высокорейтинговый фильм, который в то же время популярный"
   ]
  },
  {
   "cell_type": "code",
   "execution_count": 298,
   "id": "30a789f2",
   "metadata": {},
   "outputs": [
    {
     "name": "stdout",
     "output_type": "stream",
     "text": [
      "Топ-5 рекомендаций для фильма 1917:\n",
      "\n",
      "1. Doom: Аннигиляция\n",
      "\n",
      "2. Восемь сотен\n",
      "\n",
      "3. Аферистка\n",
      "\n",
      "4. Во всё тяжкое\n",
      "\n",
      "5. Сплит\n",
      "\n"
     ]
    }
   ],
   "source": [
    "get_recs(3402, item2id, id2item)"
   ]
  },
  {
   "cell_type": "markdown",
   "id": "1bcedb7d",
   "metadata": {},
   "source": [
    "Первые две рекомендации более-менее хорошие (мне кажется 2 даже лучше), остальные не очень"
   ]
  },
  {
   "cell_type": "code",
   "execution_count": 302,
   "id": "2eec2a87",
   "metadata": {},
   "outputs": [
    {
     "name": "stdout",
     "output_type": "stream",
     "text": [
      "Топ-5 рекомендаций для фильма Соседи сверху:\n",
      "\n",
      "1. Секс и ничего лишнего\n",
      "\n",
      "2. Секса много не бывает\n",
      "\n",
      "3. Клиника счастья\n",
      "\n",
      "4. Молодость\n",
      "\n",
      "5. Простые сложности\n",
      "\n"
     ]
    }
   ],
   "source": [
    "get_recs(12770, item2id, id2item)"
   ]
  },
  {
   "cell_type": "markdown",
   "id": "304766a0",
   "metadata": {},
   "source": [
    "Ну тут под тематику все подходит) - рекомендации хорошие"
   ]
  },
  {
   "cell_type": "code",
   "execution_count": 307,
   "id": "02c635cf",
   "metadata": {},
   "outputs": [
    {
     "name": "stdout",
     "output_type": "stream",
     "text": [
      "Топ-5 рекомендаций для фильма Невидимый гость:\n",
      "\n",
      "1. Между нами горы\n",
      "\n",
      "2. Убийство в Восточном экспрессе\n",
      "\n",
      "3. Хрустальный\n",
      "\n",
      "4. Взаперти\n",
      "\n",
      "5. Королевский Гамбит\n",
      "\n"
     ]
    }
   ],
   "source": [
    "get_recs(9842, item2id, id2item)"
   ]
  },
  {
   "cell_type": "markdown",
   "id": "d191452f",
   "metadata": {},
   "source": [
    "Для детектива-триллера получились хорошие рекомендации"
   ]
  },
  {
   "cell_type": "code",
   "execution_count": 312,
   "id": "910da02f",
   "metadata": {},
   "outputs": [
    {
     "name": "stdout",
     "output_type": "stream",
     "text": [
      "Топ-5 рекомендаций для фильма В поисках Немо:\n",
      "\n",
      "1. Зверополис\n",
      "\n",
      "2. Корпорация монстров\n",
      "\n",
      "3. Тачки\n",
      "\n",
      "4. В поисках Дори\n",
      "\n",
      "5. Рататуй\n",
      "\n"
     ]
    }
   ],
   "source": [
    "get_recs(8254, item2id, id2item)"
   ]
  },
  {
   "cell_type": "markdown",
   "id": "22a5ec7c",
   "metadata": {},
   "source": [
    "Даже все пиксаровские мультфильмы порекоммендовал (и в поисках дори в том числе)"
   ]
  },
  {
   "cell_type": "code",
   "execution_count": 319,
   "id": "3ae39823",
   "metadata": {},
   "outputs": [
    {
     "name": "stdout",
     "output_type": "stream",
     "text": [
      "Топ-5 рекомендаций для фильма Послезавтра:\n",
      "\n",
      "1. Веном\n",
      "\n",
      "2. 2067: Петля времени\n",
      "\n",
      "3. Алита: Боевой ангел\n",
      "\n",
      "4. Гнев человеческий\n",
      "\n",
      "5. Kingsman: Секретная служба\n",
      "\n"
     ]
    }
   ],
   "source": [
    "get_recs(366, item2id, id2item)"
   ]
  },
  {
   "cell_type": "markdown",
   "id": "d5a67eda",
   "metadata": {},
   "source": [
    "Для фильма катастрофы не очень хорошие рекоммендации"
   ]
  },
  {
   "cell_type": "code",
   "execution_count": 324,
   "id": "fe87383e",
   "metadata": {},
   "outputs": [
    {
     "name": "stdout",
     "output_type": "stream",
     "text": [
      "Топ-5 рекомендаций для фильма Дуров:\n",
      "\n",
      "1. Клиника счастья\n",
      "\n",
      "2. Сахаров. Две жизни\n",
      "\n",
      "3. Гнев человеческий\n",
      "\n",
      "4. Секреты семейной жизни\n",
      "\n",
      "5. Девятаев\n",
      "\n"
     ]
    }
   ],
   "source": [
    "get_recs(6809, item2id, id2item)"
   ]
  },
  {
   "cell_type": "markdown",
   "id": "66d890fd",
   "metadata": {},
   "source": [
    "Тоже так себе - только один документальный фильм в рекомендациях, остальные даже по тематике не очень схожи"
   ]
  },
  {
   "cell_type": "code",
   "execution_count": 326,
   "id": "cf0d2ff6",
   "metadata": {},
   "outputs": [
    {
     "name": "stdout",
     "output_type": "stream",
     "text": [
      "Топ-5 рекомендаций для фильма Гадкий я 2:\n",
      "\n",
      "1. Миньоны\n",
      "\n",
      "2. Гадкий я\n",
      "\n",
      "3. 100% волк\n",
      "\n",
      "4. Ральф против Интернета\n",
      "\n",
      "5. Суперсемейка 2\n",
      "\n"
     ]
    }
   ],
   "source": [
    "get_recs(7310, item2id, id2item)"
   ]
  },
  {
   "cell_type": "markdown",
   "id": "7c53d318",
   "metadata": {},
   "source": [
    "Ну тут прямо хорошие попадания в первые два, остальные тоже мультфильмы, тоже хорошо"
   ]
  },
  {
   "cell_type": "markdown",
   "id": "8fed8a63-c95d-458b-b437-2856927c85bb",
   "metadata": {
    "id": "8fed8a63-c95d-458b-b437-2856927c85bb"
   },
   "source": [
    "Хорошие ли получились рекомендации? Почему? Есть ли хорошие примеры? Есть ли плохие? Почему бывают плохие примеры?\n",
    "\n",
    "**Ответ:** В целом рекомендации получились довольно хорошие для большинства айтемов. Особенно хорошо себя показали мультфильмы, на которых выдавались чуть ли не самые релевантные из возможных вариантов. Скорее всего это связано с тем, что мультфильмы обычно смотрят дети и если они пользуются платформой со своего аккаунта, то в просмотренных фильмах будут только мультфильмы и скорее всего довольно похожие друг на друга. Плохие примеры тоже есть и я предполагаю, что это может быть связано с тем, что: \n",
    "\n",
    "1) Недостаточно похожих фильмов на платформе\n",
    "2) Высокорейтинговые популярные фильмы смотрят скорее не за жанр и тематику, а как раз за принадлежность к таковым и поэтому для них в рекомендациях могут попадаться другие высокорейтинговые популярные фильмы, но совсем не связанные общей темой\n",
    "3) Для совсем непопулярных фильмов возможно не хватает данных от пользователей и для них трудно подобрать релевантные рекоммендации"
   ]
  }
 ],
 "metadata": {
  "colab": {
   "provenance": []
  },
  "kernelspec": {
   "display_name": "Python 3",
   "language": "python",
   "name": "python3"
  },
  "language_info": {
   "codemirror_mode": {
    "name": "ipython",
    "version": 3
   },
   "file_extension": ".py",
   "mimetype": "text/x-python",
   "name": "python",
   "nbconvert_exporter": "python",
   "pygments_lexer": "ipython3",
   "version": "3.10.1"
  }
 },
 "nbformat": 4,
 "nbformat_minor": 5
}
